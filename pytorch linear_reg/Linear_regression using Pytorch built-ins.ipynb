{
 "cells": [
  {
   "cell_type": "code",
   "execution_count": 3,
   "id": "3416561c",
   "metadata": {},
   "outputs": [],
   "source": [
    "import numpy as np\n",
    "import torch\n",
    "import torch.nn as nn"
   ]
  },
  {
   "cell_type": "code",
   "execution_count": 7,
   "id": "2d52f5cc",
   "metadata": {},
   "outputs": [],
   "source": [
    "# Input (temp, rainfall, humidity)\n",
    "inputs = np.array([[73,200,11],[32,11,43],[99,67,46],[76,56,96],\n",
    "                  [73,200,11],[32,11,43],[99,67,46],[76,56,96],\n",
    "                  [73,200,11],[32,11,43],[99,67,46],[76,56,96],\n",
    "                  [73,200,11],[32,11,43],[99,67,46],[76,56,96]], dtype = 'float32')\n",
    "# targets (apples, bananas)\n",
    "targets = np.array([[32,45],[42,55],[86,23],[32,78],\n",
    "                    [32,45],[42,55],[86,23],[32,78],\n",
    "                    [32,45],[42,55],[86,23],[32,78],\n",
    "                    [32,45],[42,55],[86,23],[32,78]], dtype='float32')"
   ]
  },
  {
   "cell_type": "code",
   "execution_count": 9,
   "id": "d4f6c9c5",
   "metadata": {},
   "outputs": [],
   "source": [
    "inputs =  torch.from_numpy(np.asarray(inputs))\n",
    "targets= torch.from_numpy(np.asarray(targets))"
   ]
  },
  {
   "cell_type": "markdown",
   "id": "d39f6c6f",
   "metadata": {},
   "source": [
    "## Dataset and DataLoader"
   ]
  },
  {
   "cell_type": "code",
   "execution_count": 14,
   "id": "edbdb20e",
   "metadata": {},
   "outputs": [],
   "source": [
    "from torch.utils.data import TensorDataset\n",
    "from torch.utils.data import DataLoader"
   ]
  },
  {
   "cell_type": "code",
   "execution_count": 12,
   "id": "ea6c3ce0",
   "metadata": {},
   "outputs": [
    {
     "data": {
      "text/plain": [
       "(tensor([[ 73., 200.,  11.],\n",
       "         [ 32.,  11.,  43.],\n",
       "         [ 99.,  67.,  46.],\n",
       "         [ 76.,  56.,  96.],\n",
       "         [ 73., 200.,  11.]]),\n",
       " tensor([[32., 45.],\n",
       "         [42., 55.],\n",
       "         [86., 23.],\n",
       "         [32., 78.],\n",
       "         [32., 45.]]))"
      ]
     },
     "execution_count": 12,
     "metadata": {},
     "output_type": "execute_result"
    }
   ],
   "source": [
    "# define dataset\n",
    "train_ds = TensorDataset(inputs, targets)\n",
    "train_ds[0:5]"
   ]
  },
  {
   "cell_type": "code",
   "execution_count": 20,
   "id": "740f79a3",
   "metadata": {},
   "outputs": [],
   "source": [
    "# define data loader\n",
    "batch_size = 5\n",
    "train_dl = DataLoader(train_ds, batch_size, shuffle=True)"
   ]
  },
  {
   "cell_type": "code",
   "execution_count": 23,
   "id": "a3bbff16",
   "metadata": {},
   "outputs": [
    {
     "name": "stdout",
     "output_type": "stream",
     "text": [
      "tensor([[ 76.,  56.,  96.],\n",
      "        [ 73., 200.,  11.],\n",
      "        [ 76.,  56.,  96.],\n",
      "        [ 99.,  67.,  46.],\n",
      "        [ 99.,  67.,  46.]])\n",
      "tensor([[32., 78.],\n",
      "        [32., 45.],\n",
      "        [32., 78.],\n",
      "        [86., 23.],\n",
      "        [86., 23.]])\n"
     ]
    }
   ],
   "source": [
    "for xb, yb in train_dl:\n",
    "    print(xb)\n",
    "    print(yb)\n",
    "    break"
   ]
  },
  {
   "cell_type": "markdown",
   "id": "6452aff6",
   "metadata": {},
   "source": [
    "## nn.Linear \n",
    "Instead of initializing the weights and biases manually, we can define using the model nnn.Linear"
   ]
  },
  {
   "cell_type": "code",
   "execution_count": 24,
   "id": "4c92d205",
   "metadata": {},
   "outputs": [
    {
     "name": "stdout",
     "output_type": "stream",
     "text": [
      "Parameter containing:\n",
      "tensor([[ 0.1014,  0.4102, -0.1277],\n",
      "        [-0.2499, -0.0737,  0.2732]], requires_grad=True)\n",
      "Parameter containing:\n",
      "tensor([-0.3415,  0.0269], requires_grad=True)\n"
     ]
    }
   ],
   "source": [
    "# Define model\n",
    "model = nn.Linear(3,2)\n",
    "print(model.weight)\n",
    "print(model.bias)"
   ]
  },
  {
   "cell_type": "code",
   "execution_count": 26,
   "id": "ddefa92d",
   "metadata": {},
   "outputs": [
    {
     "data": {
      "text/plain": [
       "[Parameter containing:\n",
       " tensor([[ 0.1014,  0.4102, -0.1277],\n",
       "         [-0.2499, -0.0737,  0.2732]], requires_grad=True),\n",
       " Parameter containing:\n",
       " tensor([-0.3415,  0.0269], requires_grad=True)]"
      ]
     },
     "execution_count": 26,
     "metadata": {},
     "output_type": "execute_result"
    }
   ],
   "source": [
    "# parameters \n",
    "list(model.parameters())"
   ]
  },
  {
   "cell_type": "code",
   "execution_count": 28,
   "id": "b7a76912",
   "metadata": {},
   "outputs": [
    {
     "data": {
      "text/plain": [
       "tensor([[ 87.7020, -29.9523],\n",
       "        [  1.9241,   2.9665],\n",
       "        [ 31.3075, -17.0866],\n",
       "        [ 18.0772,   3.1335],\n",
       "        [ 87.7020, -29.9523],\n",
       "        [  1.9241,   2.9665],\n",
       "        [ 31.3075, -17.0866],\n",
       "        [ 18.0772,   3.1335],\n",
       "        [ 87.7020, -29.9523],\n",
       "        [  1.9241,   2.9665],\n",
       "        [ 31.3075, -17.0866],\n",
       "        [ 18.0772,   3.1335],\n",
       "        [ 87.7020, -29.9523],\n",
       "        [  1.9241,   2.9665],\n",
       "        [ 31.3075, -17.0866],\n",
       "        [ 18.0772,   3.1335]], grad_fn=<AddmmBackward0>)"
      ]
     },
     "execution_count": 28,
     "metadata": {},
     "output_type": "execute_result"
    }
   ],
   "source": [
    "# Generate predictions\n",
    "preds =  model(inputs)\n",
    "preds"
   ]
  },
  {
   "cell_type": "markdown",
   "id": "8549bebe",
   "metadata": {},
   "source": [
    "## Loss Function\n",
    "Instead of defining a loss function manually, we can use the built in function"
   ]
  },
  {
   "cell_type": "code",
   "execution_count": 29,
   "id": "1aa1aed9",
   "metadata": {},
   "outputs": [],
   "source": [
    "import torch.nn.functional as F"
   ]
  },
  {
   "cell_type": "code",
   "execution_count": 30,
   "id": "6975ce5d",
   "metadata": {},
   "outputs": [],
   "source": [
    "loss_fn = F.mse_loss"
   ]
  },
  {
   "cell_type": "code",
   "execution_count": 31,
   "id": "d918454a",
   "metadata": {},
   "outputs": [
    {
     "data": {
      "text/plain": [
       "tensor(2928.8965, grad_fn=<MseLossBackward0>)"
      ]
     },
     "execution_count": 31,
     "metadata": {},
     "output_type": "execute_result"
    }
   ],
   "source": [
    "loss = loss_fn(model(inputs), targets)\n",
    "loss"
   ]
  },
  {
   "cell_type": "markdown",
   "id": "6829471f",
   "metadata": {},
   "source": [
    "## Optimizer"
   ]
  },
  {
   "cell_type": "code",
   "execution_count": 32,
   "id": "a4e661de",
   "metadata": {},
   "outputs": [],
   "source": [
    "opt = torch.optim.SGD(model.parameters(),lr = 1e-5)"
   ]
  },
  {
   "cell_type": "markdown",
   "id": "eb1342e0",
   "metadata": {},
   "source": [
    "## Train the model"
   ]
  },
  {
   "cell_type": "code",
   "execution_count": 44,
   "id": "e7df62b1",
   "metadata": {},
   "outputs": [],
   "source": [
    "# Utility function to train the model\n",
    "def fit(num_epochs, model, loss_fn, opt):\n",
    "    # Repeat\n",
    "    for epoch in range(num_epochs):\n",
    "        # train with batches of data\n",
    "        for xb, yb in train_dl:\n",
    "            # pred\n",
    "            pred = model(xb)\n",
    "            # loss\n",
    "            loss = loss_fn(pred, yb)\n",
    "            # compute gradients\n",
    "            loss.backward()\n",
    "            # update parameters\n",
    "            opt.step()\n",
    "            # reset gradients to zero\n",
    "            opt.zero_grad()\n",
    "            # progress\n",
    "            if( epoch+1) % 10 == 0:\n",
    "                print('Epoch [{}/{}, loss: {:.4f}'. format(epoch +1, num_epochs,loss.item()))"
   ]
  },
  {
   "cell_type": "code",
   "execution_count": 45,
   "id": "e4cd7628",
   "metadata": {},
   "outputs": [
    {
     "name": "stdout",
     "output_type": "stream",
     "text": [
      "Epoch [10/100, loss: 353.7819\n",
      "Epoch [10/100, loss: 344.4095\n",
      "Epoch [10/100, loss: 251.6725\n",
      "Epoch [10/100, loss: 468.6475\n",
      "Epoch [20/100, loss: 232.8800\n",
      "Epoch [20/100, loss: 390.8830\n",
      "Epoch [20/100, loss: 265.3271\n",
      "Epoch [20/100, loss: 200.1847\n",
      "Epoch [30/100, loss: 277.5852\n",
      "Epoch [30/100, loss: 226.1246\n",
      "Epoch [30/100, loss: 319.0843\n",
      "Epoch [30/100, loss: 25.7434\n",
      "Epoch [40/100, loss: 227.5175\n",
      "Epoch [40/100, loss: 223.8382\n",
      "Epoch [40/100, loss: 275.9221\n",
      "Epoch [40/100, loss: 8.4530\n",
      "Epoch [50/100, loss: 198.0411\n",
      "Epoch [50/100, loss: 114.4330\n",
      "Epoch [50/100, loss: 262.6055\n",
      "Epoch [50/100, loss: 442.1393\n",
      "Epoch [60/100, loss: 188.4854\n",
      "Epoch [60/100, loss: 128.0979\n",
      "Epoch [60/100, loss: 263.9757\n",
      "Epoch [60/100, loss: 223.7314\n",
      "Epoch [70/100, loss: 147.8586\n",
      "Epoch [70/100, loss: 88.9623\n",
      "Epoch [70/100, loss: 258.3140\n",
      "Epoch [70/100, loss: 439.8669\n",
      "Epoch [80/100, loss: 226.8313\n",
      "Epoch [80/100, loss: 223.7977\n",
      "Epoch [80/100, loss: 102.5539\n",
      "Epoch [80/100, loss: 4.2813\n",
      "Epoch [90/100, loss: 162.0154\n",
      "Epoch [90/100, loss: 156.7715\n",
      "Epoch [90/100, loss: 209.2660\n",
      "Epoch [90/100, loss: 7.7653\n",
      "Epoch [100/100, loss: 60.7240\n",
      "Epoch [100/100, loss: 218.7387\n",
      "Epoch [100/100, loss: 230.5259\n",
      "Epoch [100/100, loss: 8.9864\n"
     ]
    }
   ],
   "source": [
    "fit(100,model, loss_fn, opt)"
   ]
  },
  {
   "cell_type": "code",
   "execution_count": 48,
   "id": "29890c84",
   "metadata": {},
   "outputs": [
    {
     "data": {
      "text/plain": [
       "tensor([[31.2836, 42.8012],\n",
       "        [21.3139, 34.0864],\n",
       "        [76.6841, 31.1863],\n",
       "        [46.3708, 83.3085],\n",
       "        [31.2836, 42.8012],\n",
       "        [21.3139, 34.0864],\n",
       "        [76.6841, 31.1863],\n",
       "        [46.3708, 83.3085],\n",
       "        [31.2836, 42.8012],\n",
       "        [21.3139, 34.0864],\n",
       "        [76.6841, 31.1863],\n",
       "        [46.3708, 83.3085],\n",
       "        [31.2836, 42.8012],\n",
       "        [21.3139, 34.0864],\n",
       "        [76.6841, 31.1863],\n",
       "        [46.3708, 83.3085]], grad_fn=<AddmmBackward0>)"
      ]
     },
     "execution_count": 48,
     "metadata": {},
     "output_type": "execute_result"
    }
   ],
   "source": [
    "preds = model(inputs)\n",
    "preds"
   ]
  },
  {
   "cell_type": "code",
   "execution_count": 49,
   "id": "3855fb4e",
   "metadata": {},
   "outputs": [
    {
     "name": "stdout",
     "output_type": "stream",
     "text": [
      "tensor([[32., 45.],\n",
      "        [42., 55.],\n",
      "        [86., 23.],\n",
      "        [32., 78.],\n",
      "        [32., 45.],\n",
      "        [42., 55.],\n",
      "        [86., 23.],\n",
      "        [32., 78.],\n",
      "        [32., 45.],\n",
      "        [42., 55.],\n",
      "        [86., 23.],\n",
      "        [32., 78.],\n",
      "        [32., 45.],\n",
      "        [42., 55.],\n",
      "        [86., 23.],\n",
      "        [32., 78.]])\n"
     ]
    }
   ],
   "source": [
    "print(targets)"
   ]
  },
  {
   "cell_type": "code",
   "execution_count": null,
   "id": "dfb3b4db",
   "metadata": {},
   "outputs": [],
   "source": []
  }
 ],
 "metadata": {
  "kernelspec": {
   "display_name": "Python 3 (ipykernel)",
   "language": "python",
   "name": "python3"
  },
  "language_info": {
   "codemirror_mode": {
    "name": "ipython",
    "version": 3
   },
   "file_extension": ".py",
   "mimetype": "text/x-python",
   "name": "python",
   "nbconvert_exporter": "python",
   "pygments_lexer": "ipython3",
   "version": "3.9.12"
  }
 },
 "nbformat": 4,
 "nbformat_minor": 5
}
