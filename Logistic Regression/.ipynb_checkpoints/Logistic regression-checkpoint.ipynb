{
 "cells": [
  {
   "cell_type": "markdown",
   "id": "d0e4d353",
   "metadata": {},
   "source": [
    "## Image Classification using Logistic Regression in Pytorch"
   ]
  },
  {
   "cell_type": "code",
   "execution_count": 1,
   "id": "0a5f586f",
   "metadata": {},
   "outputs": [
    {
     "name": "stdout",
     "output_type": "stream",
     "text": [
      "Requirement already satisfied: torch in c:\\users\\hp\\anaconda3\\lib\\site-packages (1.12.1)\n",
      "Requirement already satisfied: torchvision in c:\\users\\hp\\anaconda3\\lib\\site-packages (0.13.1)\n",
      "Requirement already satisfied: typing-extensions in c:\\users\\hp\\anaconda3\\lib\\site-packages (from torch) (4.1.1)\n",
      "Note: you may need to restart the kernel to use updated packages.\n",
      "Requirement already satisfied: numpy in c:\\users\\hp\\anaconda3\\lib\\site-packages (from torchvision) (1.21.5)\n",
      "Requirement already satisfied: requests in c:\\users\\hp\\anaconda3\\lib\\site-packages (from torchvision) (2.27.1)\n",
      "Requirement already satisfied: pillow!=8.3.*,>=5.3.0 in c:\\users\\hp\\anaconda3\\lib\\site-packages (from torchvision) (9.0.1)\n",
      "Requirement already satisfied: charset-normalizer~=2.0.0 in c:\\users\\hp\\anaconda3\\lib\\site-packages (from requests->torchvision) (2.0.4)\n",
      "Requirement already satisfied: urllib3<1.27,>=1.21.1 in c:\\users\\hp\\anaconda3\\lib\\site-packages (from requests->torchvision) (1.26.9)\n",
      "Requirement already satisfied: idna<4,>=2.5 in c:\\users\\hp\\anaconda3\\lib\\site-packages (from requests->torchvision) (3.3)\n",
      "Requirement already satisfied: certifi>=2017.4.17 in c:\\users\\hp\\anaconda3\\lib\\site-packages (from requests->torchvision) (2022.6.15)\n"
     ]
    }
   ],
   "source": [
    "pip install --upgrade torch torchvision"
   ]
  },
  {
   "cell_type": "code",
   "execution_count": 2,
   "id": "d739c760",
   "metadata": {},
   "outputs": [],
   "source": [
    "import os    \n",
    "os.environ['KMP_DUPLICATE_LIB_OK']='True'"
   ]
  },
  {
   "cell_type": "markdown",
   "id": "b6d232b5",
   "metadata": {},
   "source": [
    "## Exploring The Data"
   ]
  },
  {
   "cell_type": "code",
   "execution_count": 3,
   "id": "3f41dce8",
   "metadata": {},
   "outputs": [],
   "source": [
    "# Importing libraries\n",
    "import torch\n",
    "import torchvision\n",
    "#from torchvision import MNI\n",
    "import  torchvision.datasets as datasets"
   ]
  },
  {
   "cell_type": "code",
   "execution_count": 4,
   "id": "757aade3",
   "metadata": {},
   "outputs": [
    {
     "name": "stdout",
     "output_type": "stream",
     "text": [
      "Note: you may need to restart the kernel to use updated packages.\n"
     ]
    },
    {
     "name": "stderr",
     "output_type": "stream",
     "text": [
      "\n",
      "Usage:   \n",
      "  C:\\Users\\hp\\anaconda3\\python.exe -m pip install [options] <requirement specifier> [package-index-options] ...\n",
      "  C:\\Users\\hp\\anaconda3\\python.exe -m pip install [options] -r <requirements file> [package-index-options] ...\n",
      "  C:\\Users\\hp\\anaconda3\\python.exe -m pip install [options] [-e] <vcs project url> ...\n",
      "  C:\\Users\\hp\\anaconda3\\python.exe -m pip install [options] [-e] <local project path> ...\n",
      "  C:\\Users\\hp\\anaconda3\\python.exe -m pip install [options] <archive url/path> ...\n",
      "\n",
      "-f option requires 1 argument\n"
     ]
    }
   ],
   "source": [
    "pip install torch==1.4.0+cu100 torchvision==0.5.0+cu100 -f"
   ]
  },
  {
   "cell_type": "code",
   "execution_count": null,
   "id": "51ea16b5",
   "metadata": {},
   "outputs": [],
   "source": []
  },
  {
   "cell_type": "code",
   "execution_count": 5,
   "id": "a788e7bc",
   "metadata": {},
   "outputs": [
    {
     "name": "stdout",
     "output_type": "stream",
     "text": [
      "Requirement already satisfied: torchvision in c:\\users\\hp\\anaconda3\\lib\\site-packages (0.13.1)\n",
      "Requirement already satisfied: typing-extensions in c:\\users\\hp\\anaconda3\\lib\\site-packages (from torchvision) (4.1.1)\n",
      "Requirement already satisfied: numpy in c:\\users\\hp\\anaconda3\\lib\\site-packages (from torchvision) (1.21.5)\n",
      "Requirement already satisfied: requests in c:\\users\\hp\\anaconda3\\lib\\site-packages (from torchvision) (2.27.1)\n",
      "Requirement already satisfied: pillow!=8.3.*,>=5.3.0 in c:\\users\\hp\\anaconda3\\lib\\site-packages (from torchvision) (9.0.1)\n",
      "Requirement already satisfied: torch==1.12.1 in c:\\users\\hp\\anaconda3\\lib\\site-packages (from torchvision) (1.12.1)\n",
      "Requirement already satisfied: certifi>=2017.4.17 in c:\\users\\hp\\anaconda3\\lib\\site-packages (from requests->torchvision) (2022.6.15)\n",
      "Requirement already satisfied: idna<4,>=2.5 in c:\\users\\hp\\anaconda3\\lib\\site-packages (from requests->torchvision) (3.3)\n",
      "Requirement already satisfied: charset-normalizer~=2.0.0 in c:\\users\\hp\\anaconda3\\lib\\site-packages (from requests->torchvision) (2.0.4)\n",
      "Requirement already satisfied: urllib3<1.27,>=1.21.1 in c:\\users\\hp\\anaconda3\\lib\\site-packages (from requests->torchvision) (1.26.9)\n",
      "Note: you may need to restart the kernel to use updated packages.\n"
     ]
    }
   ],
   "source": [
    "pip install torchvision"
   ]
  },
  {
   "cell_type": "code",
   "execution_count": 6,
   "id": "fa0b50f3",
   "metadata": {},
   "outputs": [],
   "source": [
    "# download data \n",
    "dataset = datasets.MNIST(root = 'data/', download = True)"
   ]
  },
  {
   "cell_type": "code",
   "execution_count": 7,
   "id": "67c70cba",
   "metadata": {},
   "outputs": [
    {
     "data": {
      "text/plain": [
       "60000"
      ]
     },
     "execution_count": 7,
     "metadata": {},
     "output_type": "execute_result"
    }
   ],
   "source": [
    "len(dataset)"
   ]
  },
  {
   "cell_type": "code",
   "execution_count": 8,
   "id": "f840fbd4",
   "metadata": {},
   "outputs": [
    {
     "data": {
      "text/plain": [
       "(<PIL.Image.Image image mode=L size=28x28 at 0x23BDC8DBB50>, 5)"
      ]
     },
     "execution_count": 8,
     "metadata": {},
     "output_type": "execute_result"
    }
   ],
   "source": [
    "test_dataset = datasets.MNIST(root = 'data/', train = False)\n",
    "dataset[0]"
   ]
  },
  {
   "cell_type": "markdown",
   "id": "58ead48e",
   "metadata": {},
   "source": [
    "## Plotting Graph"
   ]
  },
  {
   "cell_type": "code",
   "execution_count": 9,
   "id": "702a7552",
   "metadata": {},
   "outputs": [],
   "source": [
    "import matplotlib.pyplot as plt\n",
    "%matplotlib inline"
   ]
  },
  {
   "cell_type": "code",
   "execution_count": 10,
   "id": "cfefbf1b",
   "metadata": {},
   "outputs": [
    {
     "name": "stdout",
     "output_type": "stream",
     "text": [
      "Label: 5\n"
     ]
    },
    {
     "data": {
      "image/png": "[encoded data removed]",
      "text/plain": [
       "<Figure size 432x288 with 1 Axes>"
      ]
     },
     "metadata": {
      "needs_background": "light"
     },
     "output_type": "display_data"
    }
   ],
   "source": [
    "img , lbl = dataset[0]\n",
    "plt.imshow(img)\n",
    "print('Label:', lbl)"
   ]
  },
  {
   "cell_type": "code",
   "execution_count": 11,
   "id": "33d2148c",
   "metadata": {},
   "outputs": [
    {
     "name": "stdout",
     "output_type": "stream",
     "text": [
      "Label: 3\n"
     ]
    },
    {
     "data": {
      "image/png": "[encoded data removed]",
      "text/plain": [
       "<Figure size 432x288 with 1 Axes>"
      ]
     },
     "metadata": {
      "needs_background": "light"
     },
     "output_type": "display_data"
    }
   ],
   "source": [
    "img , lbl = dataset[10]\n",
    "plt.imshow(img,cmap='gray')\n",
    "print('Label:', lbl)"
   ]
  },
  {
   "cell_type": "markdown",
   "id": "e6f5569f",
   "metadata": {},
   "source": [
    "### Pytorch doesnot know how to work with  images "
   ]
  },
  {
   "cell_type": "markdown",
   "id": "bdc9fb9c",
   "metadata": {},
   "source": [
    "We need to convert the images into tensors"
   ]
  },
  {
   "cell_type": "code",
   "execution_count": 12,
   "id": "246318bd",
   "metadata": {},
   "outputs": [],
   "source": [
    "import torchvision.transforms as transforms"
   ]
  },
  {
   "cell_type": "code",
   "execution_count": 13,
   "id": "9ea5b164",
   "metadata": {},
   "outputs": [],
   "source": [
    "# MNSIT DATASET(images and labels)\n",
    "dataset = datasets.MNIST(root ='data/', train = True, transform = transforms.ToTensor())"
   ]
  },
  {
   "cell_type": "code",
   "execution_count": 14,
   "id": "7a7b48f9",
   "metadata": {},
   "outputs": [
    {
     "name": "stdout",
     "output_type": "stream",
     "text": [
      "torch.Size([1, 28, 28]) 5\n"
     ]
    }
   ],
   "source": [
    "img_tensor , lbl = dataset[0]\n",
    "print(img_tensor.shape, lbl)"
   ]
  },
  {
   "cell_type": "markdown",
   "id": "7ef1ed7f",
   "metadata": {},
   "source": [
    "## Training and Validation Datasets"
   ]
  },
  {
   "cell_type": "markdown",
   "id": "e3237943",
   "metadata": {},
   "source": [
    "1. Training set : Used to train the model\n",
    "2. Training set : Used to Evaluate the model while training\n",
    "3. Test set : Used to compare Different model "
   ]
  },
  {
   "cell_type": "code",
   "execution_count": 15,
   "id": "222a5845",
   "metadata": {},
   "outputs": [],
   "source": [
    "import numpy as np\n",
    "def split_ind(n,val):\n",
    "    # set size of validation set\n",
    "    n_val = int(val * n)\n",
    "    # create random permutation of 0 to n-1\n",
    "    idxs = np.random.permutation(n)\n",
    "    return idxs[n_val:], idxs[:n_val]"
   ]
  },
  {
   "cell_type": "code",
   "execution_count": 16,
   "id": "27078b6e",
   "metadata": {},
   "outputs": [],
   "source": [
    "train_ind , val_ind = split_ind(len(dataset), val = 0.2)"
   ]
  },
  {
   "cell_type": "code",
   "execution_count": 17,
   "id": "bd88d340",
   "metadata": {},
   "outputs": [
    {
     "name": "stdout",
     "output_type": "stream",
     "text": [
      "48000 12000\n"
     ]
    }
   ],
   "source": [
    "print(len(train_ind), len(val_ind))"
   ]
  },
  {
   "cell_type": "code",
   "execution_count": 18,
   "id": "abb75750",
   "metadata": {},
   "outputs": [
    {
     "name": "stdout",
     "output_type": "stream",
     "text": [
      "sample: [27471  9654 57021 59460 36025 25478 35720 43324 56012  8637 31515 10851\n",
      " 45072 40310 24697 29787  6985 44235  8640 10391]\n"
     ]
    }
   ],
   "source": [
    "print('sample:',val_ind[:20])"
   ]
  },
  {
   "cell_type": "markdown",
   "id": "b4e543da",
   "metadata": {},
   "source": [
    "**We now create  pytorch data loaders for each of these using a \"subsetrandomsample\", which samples elements randomly from a given list of indices while greating batches of data**"
   ]
  },
  {
   "cell_type": "code",
   "execution_count": 19,
   "id": "02b72906",
   "metadata": {},
   "outputs": [],
   "source": [
    "from torch.utils.data.sampler import SubsetRandomSampler\n",
    "from torch.utils.data.dataloader import DataLoader"
   ]
  },
  {
   "cell_type": "code",
   "execution_count": 20,
   "id": "801c82f0",
   "metadata": {},
   "outputs": [],
   "source": [
    "batch_size = 100\n",
    "# training sampler and data loader\n",
    "train_sampler = SubsetRandomSampler(train_ind)\n",
    "train_loader = DataLoader(dataset, batch_size, sampler=train_sampler)"
   ]
  },
  {
   "cell_type": "code",
   "execution_count": 21,
   "id": "f97f19fd",
   "metadata": {},
   "outputs": [],
   "source": [
    "# Validation sampler and data loader\n",
    "val_samp = SubsetRandomSampler(val_ind)\n",
    "val_loader = DataLoader(dataset, batch_size, sampler=val_samp)"
   ]
  },
  {
   "cell_type": "markdown",
   "id": "012bb724",
   "metadata": {},
   "source": [
    "## Model"
   ]
  },
  {
   "cell_type": "markdown",
   "id": "07a1d3a3",
   "metadata": {},
   "source": [
    "- We can use nn.Linear to  create the model instead of defining and initilizing the matrices manually "
   ]
  },
  {
   "cell_type": "code",
   "execution_count": 22,
   "id": "6cb6d8fd",
   "metadata": {},
   "outputs": [],
   "source": [
    "import torch.nn as nn\n",
    "\n",
    "input_size = 28* 28\n",
    "num_classes = 10\n",
    "# logistic regression model \n",
    "model = nn.Linear(input_size, num_classes)"
   ]
  },
  {
   "cell_type": "code",
   "execution_count": 23,
   "id": "af4341eb",
   "metadata": {},
   "outputs": [
    {
     "name": "stdout",
     "output_type": "stream",
     "text": [
      "torch.Size([10, 784])\n"
     ]
    },
    {
     "data": {
      "text/plain": [
       "Parameter containing:\n",
       "tensor([[ 0.0288, -0.0216,  0.0290,  ...,  0.0147, -0.0134,  0.0133],\n",
       "        [ 0.0063,  0.0325,  0.0061,  ...,  0.0224,  0.0348, -0.0145],\n",
       "        [-0.0234, -0.0170, -0.0244,  ...,  0.0193, -0.0138,  0.0194],\n",
       "        ...,\n",
       "        [-0.0226,  0.0329, -0.0213,  ..., -0.0022, -0.0184, -0.0293],\n",
       "        [-0.0171,  0.0316, -0.0339,  ...,  0.0295, -0.0203, -0.0040],\n",
       "        [-0.0109,  0.0200,  0.0289,  ..., -0.0222,  0.0066,  0.0192]],\n",
       "       requires_grad=True)"
      ]
     },
     "execution_count": 23,
     "metadata": {},
     "output_type": "execute_result"
    }
   ],
   "source": [
    "# weights and biases\n",
    "print(model.weight.shape)\n",
    "model.weight"
   ]
  },
  {
   "cell_type": "code",
   "execution_count": 24,
   "id": "bde80788",
   "metadata": {},
   "outputs": [
    {
     "name": "stdout",
     "output_type": "stream",
     "text": [
      "torch.Size([10])\n"
     ]
    },
    {
     "data": {
      "text/plain": [
       "Parameter containing:\n",
       "tensor([-0.0164,  0.0014,  0.0018, -0.0233, -0.0007,  0.0174,  0.0278, -0.0063,\n",
       "        -0.0275,  0.0040], requires_grad=True)"
      ]
     },
     "execution_count": 24,
     "metadata": {},
     "output_type": "execute_result"
    }
   ],
   "source": [
    "print(model.bias.shape)\n",
    "model.bias"
   ]
  },
  {
   "cell_type": "markdown",
   "id": "c4485cca",
   "metadata": {},
   "source": [
    "**We take first batch of 100 images from our dataset, and pass them into our model**"
   ]
  },
  {
   "cell_type": "code",
   "execution_count": 25,
   "id": "7ef74e01",
   "metadata": {},
   "outputs": [
    {
     "name": "stdout",
     "output_type": "stream",
     "text": [
      "tensor([6, 5, 1, 6, 7, 3, 3, 6, 8, 8, 8, 1, 1, 1, 8, 9, 8, 8, 4, 5, 7, 5, 7, 2,\n",
      "        2, 9, 7, 2, 8, 1, 7, 2, 9, 0, 3, 1, 7, 4, 7, 2, 6, 2, 6, 1, 3, 3, 1, 4,\n",
      "        2, 7, 6, 8, 2, 3, 3, 2, 9, 2, 2, 1, 7, 2, 7, 3, 1, 5, 1, 5, 8, 2, 9, 9,\n",
      "        6, 2, 7, 3, 2, 1, 5, 3, 8, 4, 4, 4, 1, 4, 6, 4, 4, 8, 0, 0, 7, 4, 5, 4,\n",
      "        7, 7, 0, 0])\n",
      "torch.Size([100, 1, 28, 28])\n"
     ]
    },
    {
     "ename": "RuntimeError",
     "evalue": "mat1 and mat2 shapes cannot be multiplied (2800x28 and 784x10)",
     "output_type": "error",
     "traceback": [
      "\u001b[1;31m---------------------------------------------------------------------------\u001b[0m",
      "\u001b[1;31mRuntimeError\u001b[0m                              Traceback (most recent call last)",
      "Input \u001b[1;32mIn [25]\u001b[0m, in \u001b[0;36m<cell line: 1>\u001b[1;34m()\u001b[0m\n\u001b[0;32m      2\u001b[0m \u001b[38;5;28mprint\u001b[39m(lbl)\n\u001b[0;32m      3\u001b[0m \u001b[38;5;28mprint\u001b[39m(img\u001b[38;5;241m.\u001b[39mshape)\n\u001b[1;32m----> 4\u001b[0m outputs \u001b[38;5;241m=\u001b[39m \u001b[43mmodel\u001b[49m\u001b[43m(\u001b[49m\u001b[43mimg\u001b[49m\u001b[43m)\u001b[49m\n\u001b[0;32m      5\u001b[0m \u001b[38;5;28;01mbreak\u001b[39;00m\n",
      "File \u001b[1;32m~\\anaconda3\\lib\\site-packages\\torch\\nn\\modules\\module.py:1130\u001b[0m, in \u001b[0;36mModule._call_impl\u001b[1;34m(self, *input, **kwargs)\u001b[0m\n\u001b[0;32m   1126\u001b[0m \u001b[38;5;66;03m# If we don't have any hooks, we want to skip the rest of the logic in\u001b[39;00m\n\u001b[0;32m   1127\u001b[0m \u001b[38;5;66;03m# this function, and just call forward.\u001b[39;00m\n\u001b[0;32m   1128\u001b[0m \u001b[38;5;28;01mif\u001b[39;00m \u001b[38;5;129;01mnot\u001b[39;00m (\u001b[38;5;28mself\u001b[39m\u001b[38;5;241m.\u001b[39m_backward_hooks \u001b[38;5;129;01mor\u001b[39;00m \u001b[38;5;28mself\u001b[39m\u001b[38;5;241m.\u001b[39m_forward_hooks \u001b[38;5;129;01mor\u001b[39;00m \u001b[38;5;28mself\u001b[39m\u001b[38;5;241m.\u001b[39m_forward_pre_hooks \u001b[38;5;129;01mor\u001b[39;00m _global_backward_hooks\n\u001b[0;32m   1129\u001b[0m         \u001b[38;5;129;01mor\u001b[39;00m _global_forward_hooks \u001b[38;5;129;01mor\u001b[39;00m _global_forward_pre_hooks):\n\u001b[1;32m-> 1130\u001b[0m     \u001b[38;5;28;01mreturn\u001b[39;00m forward_call(\u001b[38;5;241m*\u001b[39m\u001b[38;5;28minput\u001b[39m, \u001b[38;5;241m*\u001b[39m\u001b[38;5;241m*\u001b[39mkwargs)\n\u001b[0;32m   1131\u001b[0m \u001b[38;5;66;03m# Do not call functions when jit is used\u001b[39;00m\n\u001b[0;32m   1132\u001b[0m full_backward_hooks, non_full_backward_hooks \u001b[38;5;241m=\u001b[39m [], []\n",
      "File \u001b[1;32m~\\anaconda3\\lib\\site-packages\\torch\\nn\\modules\\linear.py:114\u001b[0m, in \u001b[0;36mLinear.forward\u001b[1;34m(self, input)\u001b[0m\n\u001b[0;32m    113\u001b[0m \u001b[38;5;28;01mdef\u001b[39;00m \u001b[38;5;21mforward\u001b[39m(\u001b[38;5;28mself\u001b[39m, \u001b[38;5;28minput\u001b[39m: Tensor) \u001b[38;5;241m-\u001b[39m\u001b[38;5;241m>\u001b[39m Tensor:\n\u001b[1;32m--> 114\u001b[0m     \u001b[38;5;28;01mreturn\u001b[39;00m \u001b[43mF\u001b[49m\u001b[38;5;241;43m.\u001b[39;49m\u001b[43mlinear\u001b[49m\u001b[43m(\u001b[49m\u001b[38;5;28;43minput\u001b[39;49m\u001b[43m,\u001b[49m\u001b[43m \u001b[49m\u001b[38;5;28;43mself\u001b[39;49m\u001b[38;5;241;43m.\u001b[39;49m\u001b[43mweight\u001b[49m\u001b[43m,\u001b[49m\u001b[43m \u001b[49m\u001b[38;5;28;43mself\u001b[39;49m\u001b[38;5;241;43m.\u001b[39;49m\u001b[43mbias\u001b[49m\u001b[43m)\u001b[49m\n",
      "\u001b[1;31mRuntimeError\u001b[0m: mat1 and mat2 shapes cannot be multiplied (2800x28 and 784x10)"
     ]
    }
   ],
   "source": [
    "for img, lbl in train_loader:\n",
    "    print(lbl)\n",
    "    print(img.shape)\n",
    "    outputs = model(img)\n",
    "    break\n",
    "    "
   ]
  },
  {
   "cell_type": "markdown",
   "id": "0bcef768",
   "metadata": {},
   "source": [
    "- It seems that our training shape is not same so lets solve "
   ]
  },
  {
   "cell_type": "code",
   "execution_count": 26,
   "id": "71c4f814",
   "metadata": {},
   "outputs": [],
   "source": [
    "class MnistModel(nn.Module):\n",
    "    def __init__(self):\n",
    "        super().__init__()\n",
    "        self.linear = nn.Linear(input_size, num_classes)\n",
    "        \n",
    "    def forward(self, xb):\n",
    "        xb = xb.reshape(-1,784)\n",
    "        out = self.linear(xb)\n",
    "        return out\n",
    "model = MnistModel()"
   ]
  },
  {
   "cell_type": "code",
   "execution_count": 27,
   "id": "7c318914",
   "metadata": {},
   "outputs": [
    {
     "name": "stdout",
     "output_type": "stream",
     "text": [
      "torch.Size([10, 784]) torch.Size([10])\n"
     ]
    },
    {
     "data": {
      "text/plain": [
       "[Parameter containing:\n",
       " tensor([[-0.0159,  0.0231,  0.0334,  ..., -0.0335,  0.0332, -0.0329],\n",
       "         [-0.0132, -0.0281, -0.0149,  ..., -0.0209, -0.0156,  0.0313],\n",
       "         [ 0.0111, -0.0353,  0.0191,  ...,  0.0184,  0.0065, -0.0058],\n",
       "         ...,\n",
       "         [-0.0027,  0.0174,  0.0071,  ...,  0.0048,  0.0213, -0.0241],\n",
       "         [ 0.0232,  0.0180, -0.0091,  ..., -0.0225,  0.0047, -0.0355],\n",
       "         [-0.0228, -0.0230, -0.0274,  ...,  0.0088, -0.0251, -0.0125]],\n",
       "        requires_grad=True),\n",
       " Parameter containing:\n",
       " tensor([-1.1979e-02, -3.3908e-02, -6.4503e-05,  3.0590e-02, -2.0186e-02,\n",
       "         -2.4779e-02, -2.9092e-02,  3.5431e-02, -2.2836e-02,  1.6756e-02],\n",
       "        requires_grad=True)]"
      ]
     },
     "execution_count": 27,
     "metadata": {},
     "output_type": "execute_result"
    }
   ],
   "source": [
    "print(model.linear.weight.shape, model.linear.bias.shape)\n",
    "list(model.parameters())"
   ]
  },
  {
   "cell_type": "markdown",
   "id": "38130070",
   "metadata": {},
   "source": [
    "**Our new custom model can be used in the exact same way before . Lets see if it works**"
   ]
  },
  {
   "cell_type": "code",
   "execution_count": 28,
   "id": "aa2c5061",
   "metadata": {},
   "outputs": [
    {
     "name": "stdout",
     "output_type": "stream",
     "text": [
      "outputs.shape:  torch.Size([100, 10])\n",
      "sample outputs:\n",
      "  tensor([[-0.2191, -0.1782, -0.1468,  0.1968,  0.2130, -0.1443, -0.1483,  0.2601,\n",
      "         -0.0407,  0.1600],\n",
      "        [-0.0220,  0.2116, -0.0450,  0.6280, -0.0863, -0.0091, -0.1462, -0.0692,\n",
      "          0.4427,  0.0117]])\n"
     ]
    }
   ],
   "source": [
    "for img , lbl in train_loader:\n",
    "    outputs = model(img)\n",
    "    break\n",
    "print('outputs.shape: ', outputs.shape)\n",
    "print('sample outputs:\\n ', outputs[:2].data)\n",
    "\n"
   ]
  },
  {
   "cell_type": "code",
   "execution_count": 29,
   "id": "bd27df81",
   "metadata": {},
   "outputs": [],
   "source": [
    "import torch.nn.functional as F"
   ]
  },
  {
   "cell_type": "markdown",
   "id": "5f7b52cb",
   "metadata": {},
   "source": [
    "**The softmax funcrtion is included in the torch.nn.functional package, and requires us to specify a dimension along which the softmax must be applied**"
   ]
  },
  {
   "cell_type": "code",
   "execution_count": 30,
   "id": "d159a924",
   "metadata": {},
   "outputs": [
    {
     "name": "stdout",
     "output_type": "stream",
     "text": [
      "sample prob: \n",
      " tensor([[0.0794, 0.0827, 0.0853, 0.1203, 0.1223, 0.0856, 0.0852, 0.1282, 0.0949,\n",
      "         0.1160],\n",
      "        [0.0864, 0.1092, 0.0845, 0.1656, 0.0810, 0.0876, 0.0763, 0.0824, 0.1376,\n",
      "         0.0894]])\n",
      "Sum:  1.0\n"
     ]
    }
   ],
   "source": [
    "# Apply softmax for each output row \n",
    "probs = F.softmax(outputs, dim =1)\n",
    "# sample\n",
    "print(\"sample prob: \\n\", probs[:2].data)\n",
    "# Add up probability\n",
    "print('Sum: ', torch.sum(probs[0]).item())"
   ]
  },
  {
   "cell_type": "code",
   "execution_count": 31,
   "id": "52c17eed",
   "metadata": {},
   "outputs": [
    {
     "name": "stdout",
     "output_type": "stream",
     "text": [
      "tensor([7, 3, 3, 3, 9, 3, 2, 3, 3, 3, 1, 3, 3, 3, 4, 3, 3, 3, 1, 3, 3, 3, 7, 3,\n",
      "        3, 3, 3, 7, 3, 3, 3, 3, 3, 3, 3, 9, 3, 3, 3, 7, 3, 3, 3, 3, 3, 3, 3, 9,\n",
      "        3, 7, 3, 3, 3, 1, 3, 7, 9, 3, 3, 3, 3, 1, 3, 3, 3, 3, 3, 8, 3, 3, 3, 3,\n",
      "        3, 3, 7, 7, 3, 3, 3, 3, 8, 3, 3, 3, 3, 3, 7, 3, 3, 3, 3, 8, 3, 3, 4, 3,\n",
      "        1, 7, 2, 4])\n"
     ]
    }
   ],
   "source": [
    "max_probs, preds = torch.max(probs,dim = 1)\n",
    "print(preds)\n"
   ]
  },
  {
   "cell_type": "code",
   "execution_count": 32,
   "id": "e2cf1818",
   "metadata": {},
   "outputs": [
    {
     "data": {
      "text/plain": [
       "tensor([3, 4, 3, 4, 8, 9, 4, 6, 6, 5, 3, 2, 7, 7, 2, 0, 3, 2, 1, 5, 0, 2, 8, 8,\n",
       "        6, 0, 6, 1, 6, 8, 2, 2, 4, 6, 9, 8, 8, 5, 0, 8, 4, 2, 8, 7, 7, 1, 9, 7,\n",
       "        9, 1, 9, 4, 9, 3, 4, 2, 3, 4, 5, 3, 9, 7, 6, 0, 2, 7, 9, 7, 2, 2, 7, 6,\n",
       "        2, 4, 1, 8, 7, 0, 6, 3, 7, 7, 6, 6, 5, 2, 1, 9, 2, 9, 7, 1, 6, 7, 3, 5,\n",
       "        1, 8, 8, 4])"
      ]
     },
     "execution_count": 32,
     "metadata": {},
     "output_type": "execute_result"
    }
   ],
   "source": [
    "lbl"
   ]
  },
  {
   "cell_type": "markdown",
   "id": "395b2fc9",
   "metadata": {},
   "source": [
    "## Evaluation Metric and loss Function"
   ]
  },
  {
   "cell_type": "code",
   "execution_count": 33,
   "id": "b3e134a6",
   "metadata": {},
   "outputs": [],
   "source": [
    "def accuracy(l1,l2):\n",
    "    return torch.sum(l1 == l2).item()/len(l1)"
   ]
  },
  {
   "cell_type": "code",
   "execution_count": 34,
   "id": "5dc63515",
   "metadata": {},
   "outputs": [
    {
     "data": {
      "text/plain": [
       "0.07"
      ]
     },
     "execution_count": 34,
     "metadata": {},
     "output_type": "execute_result"
    }
   ],
   "source": [
    "accuracy(preds, lbl)"
   ]
  },
  {
   "cell_type": "markdown",
   "id": "ae24c139",
   "metadata": {},
   "source": [
    "Unlike accuracy , cross-entropy is a continuous and differentiable function that also provides good feedback for incremental improvements in the model .This makes a good choice for the loss function."
   ]
  },
  {
   "cell_type": "code",
   "execution_count": 35,
   "id": "95385021",
   "metadata": {},
   "outputs": [],
   "source": [
    "loss_fun = F.cross_entropy"
   ]
  },
  {
   "cell_type": "code",
   "execution_count": 37,
   "id": "6a293ccf",
   "metadata": {},
   "outputs": [
    {
     "data": {
      "text/plain": [
       "tensor(2.3616, grad_fn=<NllLossBackward0>)"
      ]
     },
     "execution_count": 37,
     "metadata": {},
     "output_type": "execute_result"
    }
   ],
   "source": [
    "# for current batch \n",
    "loss = loss_fun(outputs, lbl)\n",
    "loss"
   ]
  },
  {
   "cell_type": "code",
   "execution_count": 40,
   "id": "e1fe1497",
   "metadata": {},
   "outputs": [],
   "source": [
    "learning_rate = 0.001\n",
    "opt = torch.optim.SGD(model.parameters(),lr= learning_rate)"
   ]
  },
  {
   "cell_type": "markdown",
   "id": "8c62b77e",
   "metadata": {},
   "source": [
    "## Training Model"
   ]
  },
  {
   "cell_type": "markdown",
   "id": "b97d8058",
   "metadata": {},
   "source": [
    "- Now we have to define data loaders, moel , loss func and optimizer we are ready to train the model."
   ]
  },
  {
   "cell_type": "code",
   "execution_count": 59,
   "id": "8377d6bc",
   "metadata": {},
   "outputs": [],
   "source": [
    "def loss_batch(model, loss_func, xb, yb, opt= None, metric = None):\n",
    "    #calculate loss\n",
    "    preds = model(xb)\n",
    "    loss = loss_func(preds, yb)\n",
    "    \n",
    "    if opt is not None:\n",
    "        # compute gradients \n",
    "        loss.backward()\n",
    "        # update \n",
    "        opt.step()\n",
    "        # reset\n",
    "        opt.zero_grad()\n",
    "        \n",
    "    metric_res = None\n",
    "    if metric is not None:\n",
    "        # conpute metric\n",
    "        metric_res = metric(preds,yb)\n",
    "    return loss.item(), len(xb), metric_res"
   ]
  },
  {
   "cell_type": "code",
   "execution_count": 60,
   "id": "c0120cc2",
   "metadata": {},
   "outputs": [],
   "source": [
    "def evaluate(model, loss_fun,valid_dl, metric = None):\n",
    "    with torch.no_grad():\n",
    "        # pass eacg batch through model\n",
    "        res = [loss_batch(model, loss_fun,xb,yb, metric = metric)\n",
    "              for xb,yb in valid_dl]\n",
    "        # separate \n",
    "        losses, nums,metrices = zip(*res)\n",
    "        # Total size \n",
    "        total = np.sum(nums)\n",
    "        # avg loss\n",
    "        avg_loss = np.sum(np.multiply(losses, nums)) / total\n",
    "        avg_metric = None\n",
    "        if metric is not None:\n",
    "            avg_metric = np.sum(np.multiply(metrices, nums)) / total \n",
    "        return avg_loss ,total , avg_metric"
   ]
  },
  {
   "cell_type": "code",
   "execution_count": 61,
   "id": "ffacaf87",
   "metadata": {},
   "outputs": [],
   "source": [
    "def accuracy(outputs, lbl):\n",
    "    _, preds = torch.max(outputs, dim = 1)\n",
    "    return torch.sum(preds == lbl).item()/len(preds)"
   ]
  },
  {
   "cell_type": "code",
   "execution_count": 62,
   "id": "fbfd44ab",
   "metadata": {},
   "outputs": [
    {
     "name": "stdout",
     "output_type": "stream",
     "text": [
      "Loss:2.3283, Acc :0.0841\n"
     ]
    }
   ],
   "source": [
    "val_loss, total, val_acc = evaluate(model, loss_fun, val_loader, metric = accuracy)\n",
    "print('Loss:{:.4f}, Acc :{:.4f}'.format(val_loss,val_acc))"
   ]
  },
  {
   "cell_type": "markdown",
   "id": "f407f2e1",
   "metadata": {},
   "source": [
    "**We can now define fit model  function quite easily using loss_batch and evaluate**"
   ]
  },
  {
   "cell_type": "code",
   "execution_count": 76,
   "id": "9b2acf32",
   "metadata": {},
   "outputs": [],
   "source": [
    "def fit(epochs , model , loss_fn, opt, train_dl, valid_dl, metric = None):\n",
    "    for epoch in range(epochs):\n",
    "        #Training\n",
    "        for xb,yb in train_dl:\n",
    "            loss, _,_ = loss_batch(model, loss_fn, xb, yb ,opt)\n",
    "            # Evaluation \n",
    "            res = evaluate( model , loss_fn,  valid_dl, metric)\n",
    "            val_loss , total, val_metric = res\n",
    "            \n",
    "            # progress\n",
    "            if metric is not None:\n",
    "                print('Epoch [{}/{}], loss:{:.4f}'.format(epoch+1, epochs, val_loss))\n",
    "                \n",
    "            else :\n",
    "                print('Epoch [{}/{}], loss:{:.4f}, {}: {:.4f}'.format(epoch+1, epochs, val_loss), metric.__name__, val_metric)"
   ]
  },
  {
   "cell_type": "code",
   "execution_count": 77,
   "id": "df9edd69",
   "metadata": {},
   "outputs": [],
   "source": [
    "# Redefine model \n",
    "model = MnistModel()\n",
    "opt = torch.optim.SGD(model.parameters(),lr= learning_rate)"
   ]
  },
  {
   "cell_type": "code",
   "execution_count": 78,
   "id": "ec79588e",
   "metadata": {},
   "outputs": [
    {
     "name": "stdout",
     "output_type": "stream",
     "text": [
      "Epoch [1/5], loss:2.2750\n",
      "Epoch [1/5], loss:2.2739\n",
      "Epoch [1/5], loss:2.2728\n",
      "Epoch [1/5], loss:2.2718\n",
      "Epoch [1/5], loss:2.2707\n",
      "Epoch [1/5], loss:2.2696\n",
      "Epoch [1/5], loss:2.2686\n",
      "Epoch [1/5], loss:2.2676\n",
      "Epoch [1/5], loss:2.2666\n",
      "Epoch [1/5], loss:2.2656\n",
      "Epoch [1/5], loss:2.2646\n",
      "Epoch [1/5], loss:2.2636\n",
      "Epoch [1/5], loss:2.2625\n",
      "Epoch [1/5], loss:2.2613\n",
      "Epoch [1/5], loss:2.2601\n",
      "Epoch [1/5], loss:2.2591\n",
      "Epoch [1/5], loss:2.2579\n",
      "Epoch [1/5], loss:2.2571\n",
      "Epoch [1/5], loss:2.2561\n",
      "Epoch [1/5], loss:2.2550\n",
      "Epoch [1/5], loss:2.2539\n",
      "Epoch [1/5], loss:2.2528\n",
      "Epoch [1/5], loss:2.2517\n",
      "Epoch [1/5], loss:2.2507\n",
      "Epoch [1/5], loss:2.2497\n",
      "Epoch [1/5], loss:2.2486\n",
      "Epoch [1/5], loss:2.2476\n",
      "Epoch [1/5], loss:2.2464\n",
      "Epoch [1/5], loss:2.2455\n",
      "Epoch [1/5], loss:2.2445\n",
      "Epoch [1/5], loss:2.2434\n",
      "Epoch [1/5], loss:2.2424\n",
      "Epoch [1/5], loss:2.2413\n",
      "Epoch [1/5], loss:2.2404\n",
      "Epoch [1/5], loss:2.2394\n",
      "Epoch [1/5], loss:2.2384\n",
      "Epoch [1/5], loss:2.2374\n",
      "Epoch [1/5], loss:2.2364\n",
      "Epoch [1/5], loss:2.2352\n",
      "Epoch [1/5], loss:2.2342\n",
      "Epoch [1/5], loss:2.2333\n",
      "Epoch [1/5], loss:2.2324\n",
      "Epoch [1/5], loss:2.2312\n",
      "Epoch [1/5], loss:2.2301\n",
      "Epoch [1/5], loss:2.2291\n",
      "Epoch [1/5], loss:2.2281\n",
      "Epoch [1/5], loss:2.2272\n",
      "Epoch [1/5], loss:2.2261\n",
      "Epoch [1/5], loss:2.2251\n",
      "Epoch [1/5], loss:2.2240\n",
      "Epoch [1/5], loss:2.2230\n",
      "Epoch [1/5], loss:2.2221\n",
      "Epoch [1/5], loss:2.2213\n",
      "Epoch [1/5], loss:2.2203\n",
      "Epoch [1/5], loss:2.2193\n",
      "Epoch [1/5], loss:2.2184\n",
      "Epoch [1/5], loss:2.2173\n",
      "Epoch [1/5], loss:2.2163\n",
      "Epoch [1/5], loss:2.2153\n",
      "Epoch [1/5], loss:2.2145\n",
      "Epoch [1/5], loss:2.2133\n",
      "Epoch [1/5], loss:2.2124\n",
      "Epoch [1/5], loss:2.2115\n",
      "Epoch [1/5], loss:2.2105\n",
      "Epoch [1/5], loss:2.2095\n",
      "Epoch [1/5], loss:2.2084\n",
      "Epoch [1/5], loss:2.2074\n",
      "Epoch [1/5], loss:2.2062\n",
      "Epoch [1/5], loss:2.2054\n",
      "Epoch [1/5], loss:2.2043\n",
      "Epoch [1/5], loss:2.2033\n",
      "Epoch [1/5], loss:2.2023\n",
      "Epoch [1/5], loss:2.2014\n",
      "Epoch [1/5], loss:2.2005\n",
      "Epoch [1/5], loss:2.1996\n",
      "Epoch [1/5], loss:2.1987\n",
      "Epoch [1/5], loss:2.1977\n",
      "Epoch [1/5], loss:2.1969\n",
      "Epoch [1/5], loss:2.1959\n",
      "Epoch [1/5], loss:2.1949\n",
      "Epoch [1/5], loss:2.1939\n",
      "Epoch [1/5], loss:2.1929\n",
      "Epoch [1/5], loss:2.1919\n",
      "Epoch [1/5], loss:2.1908\n",
      "Epoch [1/5], loss:2.1898\n",
      "Epoch [1/5], loss:2.1889\n",
      "Epoch [1/5], loss:2.1879\n",
      "Epoch [1/5], loss:2.1870\n",
      "Epoch [1/5], loss:2.1859\n",
      "Epoch [1/5], loss:2.1849\n",
      "Epoch [1/5], loss:2.1840\n",
      "Epoch [1/5], loss:2.1829\n",
      "Epoch [1/5], loss:2.1819\n",
      "Epoch [1/5], loss:2.1809\n",
      "Epoch [1/5], loss:2.1798\n",
      "Epoch [1/5], loss:2.1787\n",
      "Epoch [1/5], loss:2.1778\n",
      "Epoch [1/5], loss:2.1768\n",
      "Epoch [1/5], loss:2.1758\n",
      "Epoch [1/5], loss:2.1750\n",
      "Epoch [1/5], loss:2.1740\n",
      "Epoch [1/5], loss:2.1730\n",
      "Epoch [1/5], loss:2.1721\n",
      "Epoch [1/5], loss:2.1712\n",
      "Epoch [1/5], loss:2.1702\n",
      "Epoch [1/5], loss:2.1692\n",
      "Epoch [1/5], loss:2.1682\n",
      "Epoch [1/5], loss:2.1673\n",
      "Epoch [1/5], loss:2.1664\n",
      "Epoch [1/5], loss:2.1655\n",
      "Epoch [1/5], loss:2.1645\n",
      "Epoch [1/5], loss:2.1636\n",
      "Epoch [1/5], loss:2.1627\n",
      "Epoch [1/5], loss:2.1617\n",
      "Epoch [1/5], loss:2.1608\n",
      "Epoch [1/5], loss:2.1597\n",
      "Epoch [1/5], loss:2.1587\n",
      "Epoch [1/5], loss:2.1578\n",
      "Epoch [1/5], loss:2.1568\n",
      "Epoch [1/5], loss:2.1559\n",
      "Epoch [1/5], loss:2.1549\n",
      "Epoch [1/5], loss:2.1540\n",
      "Epoch [1/5], loss:2.1531\n",
      "Epoch [1/5], loss:2.1520\n",
      "Epoch [1/5], loss:2.1510\n",
      "Epoch [1/5], loss:2.1501\n",
      "Epoch [1/5], loss:2.1492\n",
      "Epoch [1/5], loss:2.1484\n",
      "Epoch [1/5], loss:2.1474\n",
      "Epoch [1/5], loss:2.1465\n",
      "Epoch [1/5], loss:2.1456\n",
      "Epoch [1/5], loss:2.1446\n",
      "Epoch [1/5], loss:2.1436\n",
      "Epoch [1/5], loss:2.1427\n",
      "Epoch [1/5], loss:2.1416\n",
      "Epoch [1/5], loss:2.1406\n",
      "Epoch [1/5], loss:2.1396\n",
      "Epoch [1/5], loss:2.1385\n",
      "Epoch [1/5], loss:2.1376\n",
      "Epoch [1/5], loss:2.1366\n",
      "Epoch [1/5], loss:2.1357\n",
      "Epoch [1/5], loss:2.1348\n",
      "Epoch [1/5], loss:2.1339\n",
      "Epoch [1/5], loss:2.1329\n",
      "Epoch [1/5], loss:2.1319\n",
      "Epoch [1/5], loss:2.1310\n",
      "Epoch [1/5], loss:2.1302\n",
      "Epoch [1/5], loss:2.1292\n",
      "Epoch [1/5], loss:2.1282\n",
      "Epoch [1/5], loss:2.1273\n",
      "Epoch [1/5], loss:2.1263\n",
      "Epoch [1/5], loss:2.1254\n",
      "Epoch [1/5], loss:2.1245\n",
      "Epoch [1/5], loss:2.1236\n",
      "Epoch [1/5], loss:2.1228\n",
      "Epoch [1/5], loss:2.1218\n",
      "Epoch [1/5], loss:2.1209\n",
      "Epoch [1/5], loss:2.1199\n",
      "Epoch [1/5], loss:2.1190\n",
      "Epoch [1/5], loss:2.1181\n",
      "Epoch [1/5], loss:2.1170\n",
      "Epoch [1/5], loss:2.1162\n",
      "Epoch [1/5], loss:2.1152\n",
      "Epoch [1/5], loss:2.1144\n",
      "Epoch [1/5], loss:2.1135\n",
      "Epoch [1/5], loss:2.1127\n",
      "Epoch [1/5], loss:2.1118\n",
      "Epoch [1/5], loss:2.1108\n",
      "Epoch [1/5], loss:2.1099\n",
      "Epoch [1/5], loss:2.1090\n",
      "Epoch [1/5], loss:2.1080\n",
      "Epoch [1/5], loss:2.1072\n",
      "Epoch [1/5], loss:2.1061\n",
      "Epoch [1/5], loss:2.1052\n",
      "Epoch [1/5], loss:2.1043\n",
      "Epoch [1/5], loss:2.1034\n",
      "Epoch [1/5], loss:2.1024\n",
      "Epoch [1/5], loss:2.1016\n",
      "Epoch [1/5], loss:2.1006\n",
      "Epoch [1/5], loss:2.0998\n",
      "Epoch [1/5], loss:2.0989\n",
      "Epoch [1/5], loss:2.0979\n",
      "Epoch [1/5], loss:2.0970\n",
      "Epoch [1/5], loss:2.0961\n",
      "Epoch [1/5], loss:2.0952\n",
      "Epoch [1/5], loss:2.0943\n",
      "Epoch [1/5], loss:2.0934\n",
      "Epoch [1/5], loss:2.0924\n",
      "Epoch [1/5], loss:2.0916\n",
      "Epoch [1/5], loss:2.0907\n",
      "Epoch [1/5], loss:2.0898\n",
      "Epoch [1/5], loss:2.0889\n",
      "Epoch [1/5], loss:2.0880\n",
      "Epoch [1/5], loss:2.0872\n",
      "Epoch [1/5], loss:2.0863\n",
      "Epoch [1/5], loss:2.0853\n",
      "Epoch [1/5], loss:2.0845\n",
      "Epoch [1/5], loss:2.0835\n",
      "Epoch [1/5], loss:2.0827\n",
      "Epoch [1/5], loss:2.0817\n",
      "Epoch [1/5], loss:2.0807\n",
      "Epoch [1/5], loss:2.0799\n",
      "Epoch [1/5], loss:2.0791\n",
      "Epoch [1/5], loss:2.0781\n",
      "Epoch [1/5], loss:2.0773\n",
      "Epoch [1/5], loss:2.0764\n",
      "Epoch [1/5], loss:2.0754\n",
      "Epoch [1/5], loss:2.0745\n",
      "Epoch [1/5], loss:2.0735\n",
      "Epoch [1/5], loss:2.0727\n",
      "Epoch [1/5], loss:2.0718\n",
      "Epoch [1/5], loss:2.0709\n",
      "Epoch [1/5], loss:2.0699\n",
      "Epoch [1/5], loss:2.0690\n",
      "Epoch [1/5], loss:2.0682\n",
      "Epoch [1/5], loss:2.0672\n",
      "Epoch [1/5], loss:2.0663\n",
      "Epoch [1/5], loss:2.0654\n",
      "Epoch [1/5], loss:2.0645\n",
      "Epoch [1/5], loss:2.0636\n",
      "Epoch [1/5], loss:2.0628\n",
      "Epoch [1/5], loss:2.0620\n",
      "Epoch [1/5], loss:2.0611\n",
      "Epoch [1/5], loss:2.0603\n",
      "Epoch [1/5], loss:2.0593\n",
      "Epoch [1/5], loss:2.0584\n",
      "Epoch [1/5], loss:2.0575\n",
      "Epoch [1/5], loss:2.0567\n",
      "Epoch [1/5], loss:2.0557\n",
      "Epoch [1/5], loss:2.0547\n",
      "Epoch [1/5], loss:2.0539\n",
      "Epoch [1/5], loss:2.0530\n",
      "Epoch [1/5], loss:2.0521\n",
      "Epoch [1/5], loss:2.0512\n",
      "Epoch [1/5], loss:2.0503\n",
      "Epoch [1/5], loss:2.0493\n",
      "Epoch [1/5], loss:2.0485\n",
      "Epoch [1/5], loss:2.0476\n",
      "Epoch [1/5], loss:2.0467\n",
      "Epoch [1/5], loss:2.0459\n",
      "Epoch [1/5], loss:2.0450\n",
      "Epoch [1/5], loss:2.0442\n",
      "Epoch [1/5], loss:2.0432\n",
      "Epoch [1/5], loss:2.0424\n",
      "Epoch [1/5], loss:2.0415\n",
      "Epoch [1/5], loss:2.0406\n",
      "Epoch [1/5], loss:2.0397\n",
      "Epoch [1/5], loss:2.0388\n",
      "Epoch [1/5], loss:2.0379\n",
      "Epoch [1/5], loss:2.0371\n",
      "Epoch [1/5], loss:2.0361\n",
      "Epoch [1/5], loss:2.0353\n",
      "Epoch [1/5], loss:2.0344\n",
      "Epoch [1/5], loss:2.0336\n",
      "Epoch [1/5], loss:2.0327\n",
      "Epoch [1/5], loss:2.0318\n",
      "Epoch [1/5], loss:2.0309\n",
      "Epoch [1/5], loss:2.0300\n",
      "Epoch [1/5], loss:2.0291\n",
      "Epoch [1/5], loss:2.0282\n",
      "Epoch [1/5], loss:2.0273\n",
      "Epoch [1/5], loss:2.0265\n",
      "Epoch [1/5], loss:2.0256\n",
      "Epoch [1/5], loss:2.0248\n",
      "Epoch [1/5], loss:2.0239\n",
      "Epoch [1/5], loss:2.0230\n",
      "Epoch [1/5], loss:2.0221\n",
      "Epoch [1/5], loss:2.0213\n",
      "Epoch [1/5], loss:2.0205\n",
      "Epoch [1/5], loss:2.0197\n",
      "Epoch [1/5], loss:2.0188\n",
      "Epoch [1/5], loss:2.0180\n",
      "Epoch [1/5], loss:2.0172\n",
      "Epoch [1/5], loss:2.0162\n",
      "Epoch [1/5], loss:2.0153\n",
      "Epoch [1/5], loss:2.0145\n",
      "Epoch [1/5], loss:2.0136\n",
      "Epoch [1/5], loss:2.0128\n",
      "Epoch [1/5], loss:2.0120\n",
      "Epoch [1/5], loss:2.0112\n",
      "Epoch [1/5], loss:2.0104\n",
      "Epoch [1/5], loss:2.0094\n",
      "Epoch [1/5], loss:2.0086\n",
      "Epoch [1/5], loss:2.0077\n",
      "Epoch [1/5], loss:2.0069\n",
      "Epoch [1/5], loss:2.0060\n",
      "Epoch [1/5], loss:2.0050\n",
      "Epoch [1/5], loss:2.0043\n",
      "Epoch [1/5], loss:2.0035\n",
      "Epoch [1/5], loss:2.0027\n",
      "Epoch [1/5], loss:2.0020\n",
      "Epoch [1/5], loss:2.0011\n",
      "Epoch [1/5], loss:2.0003\n",
      "Epoch [1/5], loss:1.9995\n",
      "Epoch [1/5], loss:1.9986\n",
      "Epoch [1/5], loss:1.9978\n",
      "Epoch [1/5], loss:1.9970\n",
      "Epoch [1/5], loss:1.9962\n",
      "Epoch [1/5], loss:1.9954\n",
      "Epoch [1/5], loss:1.9945\n",
      "Epoch [1/5], loss:1.9936\n",
      "Epoch [1/5], loss:1.9928\n",
      "Epoch [1/5], loss:1.9920\n",
      "Epoch [1/5], loss:1.9911\n",
      "Epoch [1/5], loss:1.9902\n",
      "Epoch [1/5], loss:1.9893\n",
      "Epoch [1/5], loss:1.9885\n",
      "Epoch [1/5], loss:1.9877\n",
      "Epoch [1/5], loss:1.9869\n",
      "Epoch [1/5], loss:1.9861\n",
      "Epoch [1/5], loss:1.9852\n",
      "Epoch [1/5], loss:1.9844\n",
      "Epoch [1/5], loss:1.9836\n",
      "Epoch [1/5], loss:1.9828\n",
      "Epoch [1/5], loss:1.9821\n",
      "Epoch [1/5], loss:1.9813\n",
      "Epoch [1/5], loss:1.9804\n",
      "Epoch [1/5], loss:1.9795\n",
      "Epoch [1/5], loss:1.9787\n",
      "Epoch [1/5], loss:1.9779\n",
      "Epoch [1/5], loss:1.9771\n",
      "Epoch [1/5], loss:1.9763\n",
      "Epoch [1/5], loss:1.9755\n",
      "Epoch [1/5], loss:1.9747\n",
      "Epoch [1/5], loss:1.9739\n",
      "Epoch [1/5], loss:1.9731\n",
      "Epoch [1/5], loss:1.9723\n",
      "Epoch [1/5], loss:1.9714\n"
     ]
    },
    {
     "name": "stdout",
     "output_type": "stream",
     "text": [
      "Epoch [1/5], loss:1.9706\n",
      "Epoch [1/5], loss:1.9698\n",
      "Epoch [1/5], loss:1.9690\n",
      "Epoch [1/5], loss:1.9682\n",
      "Epoch [1/5], loss:1.9674\n",
      "Epoch [1/5], loss:1.9667\n",
      "Epoch [1/5], loss:1.9659\n",
      "Epoch [1/5], loss:1.9650\n",
      "Epoch [1/5], loss:1.9641\n",
      "Epoch [1/5], loss:1.9632\n",
      "Epoch [1/5], loss:1.9624\n",
      "Epoch [1/5], loss:1.9616\n",
      "Epoch [1/5], loss:1.9608\n",
      "Epoch [1/5], loss:1.9600\n",
      "Epoch [1/5], loss:1.9592\n",
      "Epoch [1/5], loss:1.9583\n",
      "Epoch [1/5], loss:1.9575\n",
      "Epoch [1/5], loss:1.9567\n",
      "Epoch [1/5], loss:1.9559\n",
      "Epoch [1/5], loss:1.9551\n",
      "Epoch [1/5], loss:1.9542\n",
      "Epoch [1/5], loss:1.9534\n",
      "Epoch [1/5], loss:1.9527\n",
      "Epoch [1/5], loss:1.9519\n",
      "Epoch [1/5], loss:1.9511\n",
      "Epoch [1/5], loss:1.9503\n",
      "Epoch [1/5], loss:1.9495\n",
      "Epoch [1/5], loss:1.9488\n",
      "Epoch [1/5], loss:1.9479\n",
      "Epoch [1/5], loss:1.9471\n",
      "Epoch [1/5], loss:1.9464\n",
      "Epoch [1/5], loss:1.9456\n",
      "Epoch [1/5], loss:1.9448\n",
      "Epoch [1/5], loss:1.9441\n",
      "Epoch [1/5], loss:1.9433\n",
      "Epoch [1/5], loss:1.9425\n",
      "Epoch [1/5], loss:1.9417\n",
      "Epoch [1/5], loss:1.9409\n",
      "Epoch [1/5], loss:1.9401\n",
      "Epoch [1/5], loss:1.9393\n",
      "Epoch [1/5], loss:1.9385\n",
      "Epoch [1/5], loss:1.9377\n",
      "Epoch [1/5], loss:1.9370\n",
      "Epoch [1/5], loss:1.9361\n",
      "Epoch [1/5], loss:1.9354\n",
      "Epoch [1/5], loss:1.9347\n",
      "Epoch [1/5], loss:1.9339\n",
      "Epoch [1/5], loss:1.9331\n",
      "Epoch [1/5], loss:1.9323\n",
      "Epoch [1/5], loss:1.9315\n",
      "Epoch [1/5], loss:1.9307\n",
      "Epoch [1/5], loss:1.9298\n",
      "Epoch [1/5], loss:1.9291\n",
      "Epoch [1/5], loss:1.9283\n",
      "Epoch [1/5], loss:1.9275\n",
      "Epoch [1/5], loss:1.9268\n",
      "Epoch [1/5], loss:1.9260\n",
      "Epoch [1/5], loss:1.9252\n",
      "Epoch [1/5], loss:1.9245\n",
      "Epoch [1/5], loss:1.9237\n",
      "Epoch [1/5], loss:1.9229\n",
      "Epoch [1/5], loss:1.9221\n",
      "Epoch [1/5], loss:1.9213\n",
      "Epoch [1/5], loss:1.9205\n",
      "Epoch [1/5], loss:1.9197\n",
      "Epoch [1/5], loss:1.9190\n",
      "Epoch [1/5], loss:1.9182\n",
      "Epoch [1/5], loss:1.9174\n",
      "Epoch [1/5], loss:1.9167\n",
      "Epoch [1/5], loss:1.9159\n",
      "Epoch [1/5], loss:1.9151\n",
      "Epoch [1/5], loss:1.9144\n",
      "Epoch [1/5], loss:1.9135\n",
      "Epoch [1/5], loss:1.9128\n",
      "Epoch [1/5], loss:1.9121\n",
      "Epoch [1/5], loss:1.9113\n",
      "Epoch [1/5], loss:1.9105\n",
      "Epoch [1/5], loss:1.9097\n",
      "Epoch [1/5], loss:1.9088\n",
      "Epoch [1/5], loss:1.9081\n",
      "Epoch [1/5], loss:1.9072\n",
      "Epoch [1/5], loss:1.9065\n",
      "Epoch [1/5], loss:1.9057\n",
      "Epoch [1/5], loss:1.9049\n",
      "Epoch [1/5], loss:1.9042\n",
      "Epoch [1/5], loss:1.9034\n",
      "Epoch [1/5], loss:1.9026\n",
      "Epoch [1/5], loss:1.9018\n",
      "Epoch [1/5], loss:1.9010\n",
      "Epoch [1/5], loss:1.9003\n",
      "Epoch [1/5], loss:1.8995\n",
      "Epoch [1/5], loss:1.8987\n",
      "Epoch [1/5], loss:1.8979\n",
      "Epoch [1/5], loss:1.8972\n",
      "Epoch [1/5], loss:1.8964\n",
      "Epoch [1/5], loss:1.8956\n",
      "Epoch [1/5], loss:1.8948\n",
      "Epoch [1/5], loss:1.8941\n",
      "Epoch [1/5], loss:1.8933\n",
      "Epoch [1/5], loss:1.8926\n",
      "Epoch [1/5], loss:1.8918\n",
      "Epoch [1/5], loss:1.8910\n",
      "Epoch [1/5], loss:1.8903\n",
      "Epoch [1/5], loss:1.8895\n",
      "Epoch [1/5], loss:1.8888\n",
      "Epoch [1/5], loss:1.8881\n",
      "Epoch [1/5], loss:1.8874\n",
      "Epoch [1/5], loss:1.8867\n",
      "Epoch [1/5], loss:1.8859\n",
      "Epoch [1/5], loss:1.8852\n",
      "Epoch [1/5], loss:1.8844\n",
      "Epoch [1/5], loss:1.8837\n",
      "Epoch [1/5], loss:1.8830\n",
      "Epoch [1/5], loss:1.8822\n",
      "Epoch [1/5], loss:1.8815\n",
      "Epoch [1/5], loss:1.8807\n",
      "Epoch [1/5], loss:1.8800\n",
      "Epoch [1/5], loss:1.8792\n",
      "Epoch [1/5], loss:1.8785\n",
      "Epoch [1/5], loss:1.8777\n",
      "Epoch [1/5], loss:1.8769\n",
      "Epoch [1/5], loss:1.8761\n",
      "Epoch [1/5], loss:1.8754\n",
      "Epoch [1/5], loss:1.8747\n",
      "Epoch [1/5], loss:1.8740\n",
      "Epoch [1/5], loss:1.8732\n",
      "Epoch [1/5], loss:1.8725\n",
      "Epoch [1/5], loss:1.8717\n",
      "Epoch [1/5], loss:1.8710\n",
      "Epoch [1/5], loss:1.8703\n",
      "Epoch [1/5], loss:1.8695\n",
      "Epoch [1/5], loss:1.8687\n",
      "Epoch [1/5], loss:1.8680\n",
      "Epoch [1/5], loss:1.8672\n",
      "Epoch [1/5], loss:1.8665\n",
      "Epoch [1/5], loss:1.8658\n",
      "Epoch [1/5], loss:1.8650\n",
      "Epoch [1/5], loss:1.8643\n",
      "Epoch [1/5], loss:1.8636\n",
      "Epoch [1/5], loss:1.8628\n",
      "Epoch [1/5], loss:1.8620\n",
      "Epoch [1/5], loss:1.8613\n",
      "Epoch [1/5], loss:1.8606\n",
      "Epoch [1/5], loss:1.8599\n",
      "Epoch [1/5], loss:1.8592\n",
      "Epoch [1/5], loss:1.8584\n",
      "Epoch [1/5], loss:1.8577\n",
      "Epoch [1/5], loss:1.8569\n",
      "Epoch [1/5], loss:1.8561\n",
      "Epoch [1/5], loss:1.8554\n",
      "Epoch [1/5], loss:1.8547\n",
      "Epoch [1/5], loss:1.8539\n",
      "Epoch [2/5], loss:1.8531\n",
      "Epoch [2/5], loss:1.8523\n",
      "Epoch [2/5], loss:1.8514\n",
      "Epoch [2/5], loss:1.8507\n",
      "Epoch [2/5], loss:1.8500\n",
      "Epoch [2/5], loss:1.8492\n",
      "Epoch [2/5], loss:1.8485\n",
      "Epoch [2/5], loss:1.8477\n",
      "Epoch [2/5], loss:1.8470\n",
      "Epoch [2/5], loss:1.8463\n",
      "Epoch [2/5], loss:1.8456\n",
      "Epoch [2/5], loss:1.8449\n",
      "Epoch [2/5], loss:1.8441\n",
      "Epoch [2/5], loss:1.8434\n",
      "Epoch [2/5], loss:1.8426\n",
      "Epoch [2/5], loss:1.8419\n",
      "Epoch [2/5], loss:1.8412\n",
      "Epoch [2/5], loss:1.8405\n",
      "Epoch [2/5], loss:1.8399\n",
      "Epoch [2/5], loss:1.8392\n",
      "Epoch [2/5], loss:1.8384\n",
      "Epoch [2/5], loss:1.8376\n",
      "Epoch [2/5], loss:1.8369\n",
      "Epoch [2/5], loss:1.8362\n",
      "Epoch [2/5], loss:1.8354\n",
      "Epoch [2/5], loss:1.8347\n",
      "Epoch [2/5], loss:1.8341\n",
      "Epoch [2/5], loss:1.8333\n",
      "Epoch [2/5], loss:1.8326\n",
      "Epoch [2/5], loss:1.8319\n",
      "Epoch [2/5], loss:1.8312\n",
      "Epoch [2/5], loss:1.8305\n",
      "Epoch [2/5], loss:1.8299\n",
      "Epoch [2/5], loss:1.8291\n",
      "Epoch [2/5], loss:1.8283\n",
      "Epoch [2/5], loss:1.8276\n",
      "Epoch [2/5], loss:1.8269\n",
      "Epoch [2/5], loss:1.8262\n",
      "Epoch [2/5], loss:1.8254\n",
      "Epoch [2/5], loss:1.8247\n",
      "Epoch [2/5], loss:1.8240\n",
      "Epoch [2/5], loss:1.8233\n",
      "Epoch [2/5], loss:1.8226\n",
      "Epoch [2/5], loss:1.8219\n",
      "Epoch [2/5], loss:1.8213\n",
      "Epoch [2/5], loss:1.8206\n",
      "Epoch [2/5], loss:1.8199\n",
      "Epoch [2/5], loss:1.8191\n",
      "Epoch [2/5], loss:1.8184\n",
      "Epoch [2/5], loss:1.8176\n",
      "Epoch [2/5], loss:1.8169\n",
      "Epoch [2/5], loss:1.8162\n",
      "Epoch [2/5], loss:1.8155\n",
      "Epoch [2/5], loss:1.8148\n",
      "Epoch [2/5], loss:1.8141\n",
      "Epoch [2/5], loss:1.8133\n",
      "Epoch [2/5], loss:1.8126\n",
      "Epoch [2/5], loss:1.8119\n",
      "Epoch [2/5], loss:1.8112\n",
      "Epoch [2/5], loss:1.8105\n",
      "Epoch [2/5], loss:1.8098\n",
      "Epoch [2/5], loss:1.8092\n",
      "Epoch [2/5], loss:1.8085\n",
      "Epoch [2/5], loss:1.8078\n",
      "Epoch [2/5], loss:1.8071\n",
      "Epoch [2/5], loss:1.8065\n"
     ]
    },
    {
     "ename": "KeyboardInterrupt",
     "evalue": "",
     "output_type": "error",
     "traceback": [
      "\u001b[1;31m---------------------------------------------------------------------------\u001b[0m",
      "\u001b[1;31mKeyboardInterrupt\u001b[0m                         Traceback (most recent call last)",
      "Input \u001b[1;32mIn [78]\u001b[0m, in \u001b[0;36m<cell line: 1>\u001b[1;34m()\u001b[0m\n\u001b[1;32m----> 1\u001b[0m \u001b[43mfit\u001b[49m\u001b[43m(\u001b[49m\u001b[38;5;241;43m5\u001b[39;49m\u001b[43m,\u001b[49m\u001b[43mmodel\u001b[49m\u001b[43m,\u001b[49m\u001b[43mF\u001b[49m\u001b[38;5;241;43m.\u001b[39;49m\u001b[43mcross_entropy\u001b[49m\u001b[43m,\u001b[49m\u001b[43mopt\u001b[49m\u001b[43m,\u001b[49m\u001b[43m \u001b[49m\u001b[43mtrain_loader\u001b[49m\u001b[43m,\u001b[49m\u001b[43m \u001b[49m\u001b[43mval_loader\u001b[49m\u001b[43m,\u001b[49m\u001b[43maccuracy\u001b[49m\u001b[43m)\u001b[49m\n",
      "Input \u001b[1;32mIn [76]\u001b[0m, in \u001b[0;36mfit\u001b[1;34m(epochs, model, loss_fn, opt, train_dl, valid_dl, metric)\u001b[0m\n\u001b[0;32m      5\u001b[0m loss, _,_ \u001b[38;5;241m=\u001b[39m loss_batch(model, loss_fn, xb, yb ,opt)\n\u001b[0;32m      6\u001b[0m \u001b[38;5;66;03m# Evaluation \u001b[39;00m\n\u001b[1;32m----> 7\u001b[0m res \u001b[38;5;241m=\u001b[39m \u001b[43mevaluate\u001b[49m\u001b[43m(\u001b[49m\u001b[43m \u001b[49m\u001b[43mmodel\u001b[49m\u001b[43m \u001b[49m\u001b[43m,\u001b[49m\u001b[43m \u001b[49m\u001b[43mloss_fn\u001b[49m\u001b[43m,\u001b[49m\u001b[43m  \u001b[49m\u001b[43mvalid_dl\u001b[49m\u001b[43m,\u001b[49m\u001b[43m \u001b[49m\u001b[43mmetric\u001b[49m\u001b[43m)\u001b[49m\n\u001b[0;32m      8\u001b[0m val_loss , total, val_metric \u001b[38;5;241m=\u001b[39m res\n\u001b[0;32m     10\u001b[0m \u001b[38;5;66;03m# progress\u001b[39;00m\n",
      "Input \u001b[1;32mIn [60]\u001b[0m, in \u001b[0;36mevaluate\u001b[1;34m(model, loss_fun, valid_dl, metric)\u001b[0m\n\u001b[0;32m      1\u001b[0m \u001b[38;5;28;01mdef\u001b[39;00m \u001b[38;5;21mevaluate\u001b[39m(model, loss_fun,valid_dl, metric \u001b[38;5;241m=\u001b[39m \u001b[38;5;28;01mNone\u001b[39;00m):\n\u001b[0;32m      2\u001b[0m     \u001b[38;5;28;01mwith\u001b[39;00m torch\u001b[38;5;241m.\u001b[39mno_grad():\n\u001b[0;32m      3\u001b[0m         \u001b[38;5;66;03m# pass eacg batch through model\u001b[39;00m\n\u001b[1;32m----> 4\u001b[0m         res \u001b[38;5;241m=\u001b[39m [loss_batch(model, loss_fun,xb,yb, metric \u001b[38;5;241m=\u001b[39m metric)\n\u001b[0;32m      5\u001b[0m               \u001b[38;5;28;01mfor\u001b[39;00m xb,yb \u001b[38;5;129;01min\u001b[39;00m valid_dl]\n\u001b[0;32m      6\u001b[0m         \u001b[38;5;66;03m# separate \u001b[39;00m\n\u001b[0;32m      7\u001b[0m         losses, nums,metrices \u001b[38;5;241m=\u001b[39m \u001b[38;5;28mzip\u001b[39m(\u001b[38;5;241m*\u001b[39mres)\n",
      "Input \u001b[1;32mIn [60]\u001b[0m, in \u001b[0;36m<listcomp>\u001b[1;34m(.0)\u001b[0m\n\u001b[0;32m      1\u001b[0m \u001b[38;5;28;01mdef\u001b[39;00m \u001b[38;5;21mevaluate\u001b[39m(model, loss_fun,valid_dl, metric \u001b[38;5;241m=\u001b[39m \u001b[38;5;28;01mNone\u001b[39;00m):\n\u001b[0;32m      2\u001b[0m     \u001b[38;5;28;01mwith\u001b[39;00m torch\u001b[38;5;241m.\u001b[39mno_grad():\n\u001b[0;32m      3\u001b[0m         \u001b[38;5;66;03m# pass eacg batch through model\u001b[39;00m\n\u001b[1;32m----> 4\u001b[0m         res \u001b[38;5;241m=\u001b[39m [loss_batch(model, loss_fun,xb,yb, metric \u001b[38;5;241m=\u001b[39m metric)\n\u001b[0;32m      5\u001b[0m               \u001b[38;5;28;01mfor\u001b[39;00m xb,yb \u001b[38;5;129;01min\u001b[39;00m valid_dl]\n\u001b[0;32m      6\u001b[0m         \u001b[38;5;66;03m# separate \u001b[39;00m\n\u001b[0;32m      7\u001b[0m         losses, nums,metrices \u001b[38;5;241m=\u001b[39m \u001b[38;5;28mzip\u001b[39m(\u001b[38;5;241m*\u001b[39mres)\n",
      "File \u001b[1;32m~\\anaconda3\\lib\\site-packages\\torch\\utils\\data\\dataloader.py:681\u001b[0m, in \u001b[0;36m_BaseDataLoaderIter.__next__\u001b[1;34m(self)\u001b[0m\n\u001b[0;32m    678\u001b[0m \u001b[38;5;28;01mif\u001b[39;00m \u001b[38;5;28mself\u001b[39m\u001b[38;5;241m.\u001b[39m_sampler_iter \u001b[38;5;129;01mis\u001b[39;00m \u001b[38;5;28;01mNone\u001b[39;00m:\n\u001b[0;32m    679\u001b[0m     \u001b[38;5;66;03m# TODO(https://github.com/pytorch/pytorch/issues/76750)\u001b[39;00m\n\u001b[0;32m    680\u001b[0m     \u001b[38;5;28mself\u001b[39m\u001b[38;5;241m.\u001b[39m_reset()  \u001b[38;5;66;03m# type: ignore[call-arg]\u001b[39;00m\n\u001b[1;32m--> 681\u001b[0m data \u001b[38;5;241m=\u001b[39m \u001b[38;5;28;43mself\u001b[39;49m\u001b[38;5;241;43m.\u001b[39;49m\u001b[43m_next_data\u001b[49m\u001b[43m(\u001b[49m\u001b[43m)\u001b[49m\n\u001b[0;32m    682\u001b[0m \u001b[38;5;28mself\u001b[39m\u001b[38;5;241m.\u001b[39m_num_yielded \u001b[38;5;241m+\u001b[39m\u001b[38;5;241m=\u001b[39m \u001b[38;5;241m1\u001b[39m\n\u001b[0;32m    683\u001b[0m \u001b[38;5;28;01mif\u001b[39;00m \u001b[38;5;28mself\u001b[39m\u001b[38;5;241m.\u001b[39m_dataset_kind \u001b[38;5;241m==\u001b[39m _DatasetKind\u001b[38;5;241m.\u001b[39mIterable \u001b[38;5;129;01mand\u001b[39;00m \\\n\u001b[0;32m    684\u001b[0m         \u001b[38;5;28mself\u001b[39m\u001b[38;5;241m.\u001b[39m_IterableDataset_len_called \u001b[38;5;129;01mis\u001b[39;00m \u001b[38;5;129;01mnot\u001b[39;00m \u001b[38;5;28;01mNone\u001b[39;00m \u001b[38;5;129;01mand\u001b[39;00m \\\n\u001b[0;32m    685\u001b[0m         \u001b[38;5;28mself\u001b[39m\u001b[38;5;241m.\u001b[39m_num_yielded \u001b[38;5;241m>\u001b[39m \u001b[38;5;28mself\u001b[39m\u001b[38;5;241m.\u001b[39m_IterableDataset_len_called:\n",
      "File \u001b[1;32m~\\anaconda3\\lib\\site-packages\\torch\\utils\\data\\dataloader.py:721\u001b[0m, in \u001b[0;36m_SingleProcessDataLoaderIter._next_data\u001b[1;34m(self)\u001b[0m\n\u001b[0;32m    719\u001b[0m \u001b[38;5;28;01mdef\u001b[39;00m \u001b[38;5;21m_next_data\u001b[39m(\u001b[38;5;28mself\u001b[39m):\n\u001b[0;32m    720\u001b[0m     index \u001b[38;5;241m=\u001b[39m \u001b[38;5;28mself\u001b[39m\u001b[38;5;241m.\u001b[39m_next_index()  \u001b[38;5;66;03m# may raise StopIteration\u001b[39;00m\n\u001b[1;32m--> 721\u001b[0m     data \u001b[38;5;241m=\u001b[39m \u001b[38;5;28;43mself\u001b[39;49m\u001b[38;5;241;43m.\u001b[39;49m\u001b[43m_dataset_fetcher\u001b[49m\u001b[38;5;241;43m.\u001b[39;49m\u001b[43mfetch\u001b[49m\u001b[43m(\u001b[49m\u001b[43mindex\u001b[49m\u001b[43m)\u001b[49m  \u001b[38;5;66;03m# may raise StopIteration\u001b[39;00m\n\u001b[0;32m    722\u001b[0m     \u001b[38;5;28;01mif\u001b[39;00m \u001b[38;5;28mself\u001b[39m\u001b[38;5;241m.\u001b[39m_pin_memory:\n\u001b[0;32m    723\u001b[0m         data \u001b[38;5;241m=\u001b[39m _utils\u001b[38;5;241m.\u001b[39mpin_memory\u001b[38;5;241m.\u001b[39mpin_memory(data, \u001b[38;5;28mself\u001b[39m\u001b[38;5;241m.\u001b[39m_pin_memory_device)\n",
      "File \u001b[1;32m~\\anaconda3\\lib\\site-packages\\torch\\utils\\data\\_utils\\fetch.py:49\u001b[0m, in \u001b[0;36m_MapDatasetFetcher.fetch\u001b[1;34m(self, possibly_batched_index)\u001b[0m\n\u001b[0;32m     47\u001b[0m \u001b[38;5;28;01mdef\u001b[39;00m \u001b[38;5;21mfetch\u001b[39m(\u001b[38;5;28mself\u001b[39m, possibly_batched_index):\n\u001b[0;32m     48\u001b[0m     \u001b[38;5;28;01mif\u001b[39;00m \u001b[38;5;28mself\u001b[39m\u001b[38;5;241m.\u001b[39mauto_collation:\n\u001b[1;32m---> 49\u001b[0m         data \u001b[38;5;241m=\u001b[39m [\u001b[38;5;28mself\u001b[39m\u001b[38;5;241m.\u001b[39mdataset[idx] \u001b[38;5;28;01mfor\u001b[39;00m idx \u001b[38;5;129;01min\u001b[39;00m possibly_batched_index]\n\u001b[0;32m     50\u001b[0m     \u001b[38;5;28;01melse\u001b[39;00m:\n\u001b[0;32m     51\u001b[0m         data \u001b[38;5;241m=\u001b[39m \u001b[38;5;28mself\u001b[39m\u001b[38;5;241m.\u001b[39mdataset[possibly_batched_index]\n",
      "File \u001b[1;32m~\\anaconda3\\lib\\site-packages\\torch\\utils\\data\\_utils\\fetch.py:49\u001b[0m, in \u001b[0;36m<listcomp>\u001b[1;34m(.0)\u001b[0m\n\u001b[0;32m     47\u001b[0m \u001b[38;5;28;01mdef\u001b[39;00m \u001b[38;5;21mfetch\u001b[39m(\u001b[38;5;28mself\u001b[39m, possibly_batched_index):\n\u001b[0;32m     48\u001b[0m     \u001b[38;5;28;01mif\u001b[39;00m \u001b[38;5;28mself\u001b[39m\u001b[38;5;241m.\u001b[39mauto_collation:\n\u001b[1;32m---> 49\u001b[0m         data \u001b[38;5;241m=\u001b[39m [\u001b[38;5;28;43mself\u001b[39;49m\u001b[38;5;241;43m.\u001b[39;49m\u001b[43mdataset\u001b[49m\u001b[43m[\u001b[49m\u001b[43midx\u001b[49m\u001b[43m]\u001b[49m \u001b[38;5;28;01mfor\u001b[39;00m idx \u001b[38;5;129;01min\u001b[39;00m possibly_batched_index]\n\u001b[0;32m     50\u001b[0m     \u001b[38;5;28;01melse\u001b[39;00m:\n\u001b[0;32m     51\u001b[0m         data \u001b[38;5;241m=\u001b[39m \u001b[38;5;28mself\u001b[39m\u001b[38;5;241m.\u001b[39mdataset[possibly_batched_index]\n",
      "File \u001b[1;32m~\\anaconda3\\lib\\site-packages\\torchvision\\datasets\\mnist.py:145\u001b[0m, in \u001b[0;36mMNIST.__getitem__\u001b[1;34m(self, index)\u001b[0m\n\u001b[0;32m    142\u001b[0m img \u001b[38;5;241m=\u001b[39m Image\u001b[38;5;241m.\u001b[39mfromarray(img\u001b[38;5;241m.\u001b[39mnumpy(), mode\u001b[38;5;241m=\u001b[39m\u001b[38;5;124m\"\u001b[39m\u001b[38;5;124mL\u001b[39m\u001b[38;5;124m\"\u001b[39m)\n\u001b[0;32m    144\u001b[0m \u001b[38;5;28;01mif\u001b[39;00m \u001b[38;5;28mself\u001b[39m\u001b[38;5;241m.\u001b[39mtransform \u001b[38;5;129;01mis\u001b[39;00m \u001b[38;5;129;01mnot\u001b[39;00m \u001b[38;5;28;01mNone\u001b[39;00m:\n\u001b[1;32m--> 145\u001b[0m     img \u001b[38;5;241m=\u001b[39m \u001b[38;5;28;43mself\u001b[39;49m\u001b[38;5;241;43m.\u001b[39;49m\u001b[43mtransform\u001b[49m\u001b[43m(\u001b[49m\u001b[43mimg\u001b[49m\u001b[43m)\u001b[49m\n\u001b[0;32m    147\u001b[0m \u001b[38;5;28;01mif\u001b[39;00m \u001b[38;5;28mself\u001b[39m\u001b[38;5;241m.\u001b[39mtarget_transform \u001b[38;5;129;01mis\u001b[39;00m \u001b[38;5;129;01mnot\u001b[39;00m \u001b[38;5;28;01mNone\u001b[39;00m:\n\u001b[0;32m    148\u001b[0m     target \u001b[38;5;241m=\u001b[39m \u001b[38;5;28mself\u001b[39m\u001b[38;5;241m.\u001b[39mtarget_transform(target)\n",
      "File \u001b[1;32m~\\anaconda3\\lib\\site-packages\\torchvision\\transforms\\transforms.py:134\u001b[0m, in \u001b[0;36mToTensor.__call__\u001b[1;34m(self, pic)\u001b[0m\n\u001b[0;32m    126\u001b[0m \u001b[38;5;28;01mdef\u001b[39;00m \u001b[38;5;21m__call__\u001b[39m(\u001b[38;5;28mself\u001b[39m, pic):\n\u001b[0;32m    127\u001b[0m     \u001b[38;5;124;03m\"\"\"\u001b[39;00m\n\u001b[0;32m    128\u001b[0m \u001b[38;5;124;03m    Args:\u001b[39;00m\n\u001b[0;32m    129\u001b[0m \u001b[38;5;124;03m        pic (PIL Image or numpy.ndarray): Image to be converted to tensor.\u001b[39;00m\n\u001b[1;32m   (...)\u001b[0m\n\u001b[0;32m    132\u001b[0m \u001b[38;5;124;03m        Tensor: Converted image.\u001b[39;00m\n\u001b[0;32m    133\u001b[0m \u001b[38;5;124;03m    \"\"\"\u001b[39;00m\n\u001b[1;32m--> 134\u001b[0m     \u001b[38;5;28;01mreturn\u001b[39;00m \u001b[43mF\u001b[49m\u001b[38;5;241;43m.\u001b[39;49m\u001b[43mto_tensor\u001b[49m\u001b[43m(\u001b[49m\u001b[43mpic\u001b[49m\u001b[43m)\u001b[49m\n",
      "File \u001b[1;32m~\\anaconda3\\lib\\site-packages\\torchvision\\transforms\\functional.py:170\u001b[0m, in \u001b[0;36mto_tensor\u001b[1;34m(pic)\u001b[0m\n\u001b[0;32m    168\u001b[0m img \u001b[38;5;241m=\u001b[39m img\u001b[38;5;241m.\u001b[39mview(pic\u001b[38;5;241m.\u001b[39msize[\u001b[38;5;241m1\u001b[39m], pic\u001b[38;5;241m.\u001b[39msize[\u001b[38;5;241m0\u001b[39m], \u001b[38;5;28mlen\u001b[39m(pic\u001b[38;5;241m.\u001b[39mgetbands()))\n\u001b[0;32m    169\u001b[0m \u001b[38;5;66;03m# put it from HWC to CHW format\u001b[39;00m\n\u001b[1;32m--> 170\u001b[0m img \u001b[38;5;241m=\u001b[39m \u001b[43mimg\u001b[49m\u001b[38;5;241;43m.\u001b[39;49m\u001b[43mpermute\u001b[49m\u001b[43m(\u001b[49m\u001b[43m(\u001b[49m\u001b[38;5;241;43m2\u001b[39;49m\u001b[43m,\u001b[49m\u001b[43m \u001b[49m\u001b[38;5;241;43m0\u001b[39;49m\u001b[43m,\u001b[49m\u001b[43m \u001b[49m\u001b[38;5;241;43m1\u001b[39;49m\u001b[43m)\u001b[49m\u001b[43m)\u001b[49m\u001b[38;5;241m.\u001b[39mcontiguous()\n\u001b[0;32m    171\u001b[0m \u001b[38;5;28;01mif\u001b[39;00m \u001b[38;5;28misinstance\u001b[39m(img, torch\u001b[38;5;241m.\u001b[39mByteTensor):\n\u001b[0;32m    172\u001b[0m     \u001b[38;5;28;01mreturn\u001b[39;00m img\u001b[38;5;241m.\u001b[39mto(dtype\u001b[38;5;241m=\u001b[39mdefault_float_dtype)\u001b[38;5;241m.\u001b[39mdiv(\u001b[38;5;241m255\u001b[39m)\n",
      "\u001b[1;31mKeyboardInterrupt\u001b[0m: "
     ]
    }
   ],
   "source": [
    "fit(5,model,F.cross_entropy,opt, train_loader, val_loader,accuracy)"
   ]
  },
  {
   "cell_type": "code",
   "execution_count": 79,
   "id": "d1991b8b",
   "metadata": {},
   "outputs": [],
   "source": [
    "test_dataset = datasets.MNIST(root = 'data/', train = False,transform=transforms.ToTensor())"
   ]
  },
  {
   "cell_type": "code",
   "execution_count": 80,
   "id": "cc902187",
   "metadata": {},
   "outputs": [
    {
     "name": "stdout",
     "output_type": "stream",
     "text": [
      "Shape: torch.Size([1, 28, 28])\n",
      "Label: 7\n"
     ]
    },
    {
     "data": {
      "image/png": "[encoded data removed]",
      "text/plain": [
       "<Figure size 432x288 with 1 Axes>"
      ]
     },
     "metadata": {
      "needs_background": "light"
     },
     "output_type": "display_data"
    }
   ],
   "source": [
    "img,lbl = test_dataset[0]\n",
    "plt.imshow(img[0],cmap='gray')\n",
    "print('Shape:',img.shape)\n",
    "print('Label:',lbl)"
   ]
  },
  {
   "cell_type": "code",
   "execution_count": 81,
   "id": "fdee45ff",
   "metadata": {},
   "outputs": [
    {
     "data": {
      "text/plain": [
       "torch.Size([1, 1, 28, 28])"
      ]
     },
     "execution_count": 81,
     "metadata": {},
     "output_type": "execute_result"
    }
   ],
   "source": [
    "img.unsqueeze(0).shape"
   ]
  },
  {
   "cell_type": "code",
   "execution_count": 85,
   "id": "24723cf7",
   "metadata": {},
   "outputs": [],
   "source": [
    "def predict_img(img, model):\n",
    "    xb = img.unsqueeze(0)\n",
    "    yb = model(xb)\n",
    "    _, preds = torch.max(yb, dim = 1)\n",
    "    return preds[0].item()"
   ]
  },
  {
   "cell_type": "code",
   "execution_count": 86,
   "id": "ee129d9a",
   "metadata": {},
   "outputs": [
    {
     "name": "stdout",
     "output_type": "stream",
     "text": [
      "label: 9 Predicted: 9\n"
     ]
    },
    {
     "data": {
      "image/png": "[encoded data removed]",
      "text/plain": [
       "<Figure size 432x288 with 1 Axes>"
      ]
     },
     "metadata": {
      "needs_background": "light"
     },
     "output_type": "display_data"
    }
   ],
   "source": [
    "img, lbl = test_dataset[193]\n",
    "plt.imshow(img[0],cmap='gray')\n",
    "print('label:',lbl,'Predicted:',predict_img(img,model))"
   ]
  }
 ],
 "metadata": {
  "kernelspec": {
   "display_name": "Python 3 (ipykernel)",
   "language": "python",
   "name": "python3"
  },
  "language_info": {
   "codemirror_mode": {
    "name": "ipython",
    "version": 3
   },
   "file_extension": ".py",
   "mimetype": "text/x-python",
   "name": "python",
   "nbconvert_exporter": "python",
   "pygments_lexer": "ipython3",
   "version": "3.9.12"
  }
 },
 "nbformat": 4,
 "nbformat_minor": 5
}
