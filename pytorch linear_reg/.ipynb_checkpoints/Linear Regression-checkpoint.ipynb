{
 "cells": [
  {
   "cell_type": "code",
   "execution_count": 1,
   "id": "321420e3",
   "metadata": {},
   "outputs": [],
   "source": [
    "import torch \n",
    "import numpy as np"
   ]
  },
  {
   "cell_type": "code",
   "execution_count": 4,
   "id": "7c95e4bd",
   "metadata": {},
   "outputs": [
    {
     "name": "stdout",
     "output_type": "stream",
     "text": [
      "Collecting torch\n",
      "  Downloading torch-1.12.1-cp39-cp39-win_amd64.whl (161.8 MB)\n",
      "Requirement already satisfied: typing-extensions in c:\\users\\hp\\anaconda3\\lib\\site-packages (from torch) (4.1.1)\n",
      "Installing collected packages: torch\n",
      "Successfully installed torch-1.12.1\n",
      "Note: you may need to restart the kernel to use updated packages.\n"
     ]
    }
   ],
   "source": [
    "pip install torch"
   ]
  },
  {
   "cell_type": "markdown",
   "id": "edb05ea6",
   "metadata": {},
   "source": [
    "## TRAINING DATA "
   ]
  },
  {
   "cell_type": "code",
   "execution_count": 58,
   "id": "ce8c7037",
   "metadata": {},
   "outputs": [],
   "source": [
    "# inputs\n",
    "Input = np.array([[73,21,23],\n",
    "                 [553,32,231],\n",
    "                 [34,26,76],\n",
    "                 [78,61,89],\n",
    "                 [29,260,2]], dtype = 'float32')"
   ]
  },
  {
   "cell_type": "code",
   "execution_count": 59,
   "id": "c966a0d7",
   "metadata": {},
   "outputs": [],
   "source": [
    "# targets\n",
    "targets = np.array([[76,66],\n",
    "                 [101,22],\n",
    "                 [12,43],\n",
    "                 [89,88],\n",
    "                 [70,21]],dtype = 'float32')"
   ]
  },
  {
   "cell_type": "code",
   "execution_count": 60,
   "id": "2f691444",
   "metadata": {},
   "outputs": [],
   "source": [
    "# convert inputs and targets into tensors\n",
    "Input = torch.from_numpy(np.asarray(Input))\n",
    "targets= torch.from_numpy(np.asarray(targets))\n",
    "#print(targets)\n"
   ]
  },
  {
   "cell_type": "code",
   "execution_count": 61,
   "id": "740571b7",
   "metadata": {},
   "outputs": [],
   "source": [
    "w =  torch.randn(2,3, requires_grad = True)\n",
    "b =  torch.randn(2, requires_grad = True)"
   ]
  },
  {
   "cell_type": "code",
   "execution_count": 62,
   "id": "92fa4df8",
   "metadata": {},
   "outputs": [],
   "source": [
    "def model(x):\n",
    "    return x @ w.t() +b"
   ]
  },
  {
   "cell_type": "code",
   "execution_count": 63,
   "id": "6b58112a",
   "metadata": {},
   "outputs": [
    {
     "data": {
      "text/plain": [
       "tensor([[  -9.1065,  -41.0858],\n",
       "        [ 122.5824, -436.5282],\n",
       "        [  -1.3371,   31.7974],\n",
       "        [ -38.0438,   31.7546],\n",
       "        [-350.0685,  270.6819]], grad_fn=<AddBackward0>)"
      ]
     },
     "execution_count": 63,
     "metadata": {},
     "output_type": "execute_result"
    }
   ],
   "source": [
    "# generate predictions\n",
    "preds = model(Input)\n",
    "preds"
   ]
  },
  {
   "cell_type": "code",
   "execution_count": 64,
   "id": "585d11d7",
   "metadata": {},
   "outputs": [
    {
     "data": {
      "text/plain": [
       "tensor([[ 76.,  66.],\n",
       "        [101.,  22.],\n",
       "        [ 12.,  43.],\n",
       "        [ 89.,  88.],\n",
       "        [ 70.,  21.]])"
      ]
     },
     "execution_count": 64,
     "metadata": {},
     "output_type": "execute_result"
    }
   ],
   "source": [
    "targets"
   ]
  },
  {
   "cell_type": "markdown",
   "id": "53020201",
   "metadata": {},
   "source": [
    "## Loss Function "
   ]
  },
  {
   "cell_type": "code",
   "execution_count": 65,
   "id": "bf8efc30",
   "metadata": {},
   "outputs": [],
   "source": [
    "## MSE function\n",
    "def mse(a,b):\n",
    "    diff = a - b\n",
    "    return torch.sum(diff * diff) / diff.numel()"
   ]
  },
  {
   "cell_type": "code",
   "execution_count": 66,
   "id": "47ee1081",
   "metadata": {},
   "outputs": [
    {
     "data": {
      "text/plain": [
       "tensor(48783.0078, grad_fn=<DivBackward0>)"
      ]
     },
     "execution_count": 66,
     "metadata": {},
     "output_type": "execute_result"
    }
   ],
   "source": [
    "# compute loss\n",
    "loss = mse(preds, targets)\n",
    "loss"
   ]
  },
  {
   "cell_type": "code",
   "execution_count": 67,
   "id": "8f778eb5",
   "metadata": {},
   "outputs": [],
   "source": [
    "## Compute gradients\n",
    "loss.backward()"
   ]
  },
  {
   "cell_type": "code",
   "execution_count": 68,
   "id": "35614f34",
   "metadata": {},
   "outputs": [
    {
     "name": "stdout",
     "output_type": "stream",
     "text": [
      "tensor([[ 0.1412, -1.3673,  0.3795],\n",
      "        [-1.0608,  1.1519,  0.4859]], requires_grad=True)\n",
      "tensor([[ -3364.5122, -23682.1699,  -2026.5132],\n",
      "        [-51782.1172,   8854.6729, -22748.1738]])\n"
     ]
    }
   ],
   "source": [
    "print(w)\n",
    "print(w.grad)"
   ]
  },
  {
   "cell_type": "code",
   "execution_count": 69,
   "id": "e5de9f44",
   "metadata": {},
   "outputs": [
    {
     "data": {
      "text/plain": [
       "tensor([0., 0.])"
      ]
     },
     "execution_count": 69,
     "metadata": {},
     "output_type": "execute_result"
    }
   ],
   "source": [
    "w.grad.zero_()\n",
    "b.grad.zero_()"
   ]
  },
  {
   "cell_type": "markdown",
   "id": "db2b6c22",
   "metadata": {},
   "source": [
    "## Training\n",
    "- Train from initial "
   ]
  },
  {
   "cell_type": "code",
   "execution_count": 70,
   "id": "0dece1ab",
   "metadata": {},
   "outputs": [],
   "source": [
    "preds = model(Input)\n"
   ]
  },
  {
   "cell_type": "code",
   "execution_count": 71,
   "id": "c5fccda6",
   "metadata": {},
   "outputs": [
    {
     "name": "stdout",
     "output_type": "stream",
     "text": [
      "tensor(48783.0078, grad_fn=<DivBackward0>)\n"
     ]
    }
   ],
   "source": [
    "loss = mse(preds, targets)\n",
    "print(loss)"
   ]
  },
  {
   "cell_type": "code",
   "execution_count": 72,
   "id": "85bd25f2",
   "metadata": {},
   "outputs": [],
   "source": [
    "loss.backward()"
   ]
  },
  {
   "cell_type": "code",
   "execution_count": 73,
   "id": "7fa178e4",
   "metadata": {},
   "outputs": [],
   "source": [
    "# Ajust weights and reset gradients\n",
    "with torch.no_grad():\n",
    "    w -= w.grad * 1e-5\n",
    "    b -= b.grad * 1e-5\n",
    "    w.grad.zero_()\n",
    "    b.grad.zero_()"
   ]
  },
  {
   "cell_type": "code",
   "execution_count": 74,
   "id": "ba3c7cfe",
   "metadata": {},
   "outputs": [
    {
     "data": {
      "text/plain": [
       "tensor(22664.9746, grad_fn=<DivBackward0>)"
      ]
     },
     "execution_count": 74,
     "metadata": {},
     "output_type": "execute_result"
    }
   ],
   "source": [
    "# lets again calculate loss\n",
    "preds = model(Input)\n",
    "loss = mse(preds, targets)\n",
    "loss"
   ]
  },
  {
   "cell_type": "code",
   "execution_count": 75,
   "id": "823e2467",
   "metadata": {},
   "outputs": [],
   "source": [
    "# To reduce the loss we again repeat the process\n",
    "for i in range (100):\n",
    "    preds = model(Input)\n",
    "    loss = mse(preds, targets)\n",
    "    loss.backward()\n",
    "    with torch.no_grad():\n",
    "        w -= w.grad * 1e-5\n",
    "        b -= b.grad * 1e-5\n",
    "        w.grad.zero_()\n",
    "        b.grad.zero_()"
   ]
  },
  {
   "cell_type": "code",
   "execution_count": 76,
   "id": "d5fb58c4",
   "metadata": {},
   "outputs": [
    {
     "data": {
      "text/plain": [
       "tensor(1087.1686, grad_fn=<DivBackward0>)"
      ]
     },
     "execution_count": 76,
     "metadata": {},
     "output_type": "execute_result"
    }
   ],
   "source": [
    "preds = model(Input)\n",
    "loss = mse(preds, targets)\n",
    "loss"
   ]
  },
  {
   "cell_type": "code",
   "execution_count": 77,
   "id": "d58a8602",
   "metadata": {},
   "outputs": [
    {
     "name": "stdout",
     "output_type": "stream",
     "text": [
      "tensor([[ 17.3866,   1.1566],\n",
      "        [111.6109,  33.0026],\n",
      "        [ 37.7553,  58.8043],\n",
      "        [ 54.1678,  61.2394],\n",
      "        [ 79.0274,  29.5919]], grad_fn=<AddBackward0>)\n",
      "tensor([[ 76.,  66.],\n",
      "        [101.,  22.],\n",
      "        [ 12.,  43.],\n",
      "        [ 89.,  88.],\n",
      "        [ 70.,  21.]])\n"
     ]
    }
   ],
   "source": [
    "print(preds)\n",
    "print(targets)"
   ]
  }
 ],
 "metadata": {
  "kernelspec": {
   "display_name": "Python 3 (ipykernel)",
   "language": "python",
   "name": "python3"
  },
  "language_info": {
   "codemirror_mode": {
    "name": "ipython",
    "version": 3
   },
   "file_extension": ".py",
   "mimetype": "text/x-python",
   "name": "python",
   "nbconvert_exporter": "python",
   "pygments_lexer": "ipython3",
   "version": "3.9.12"
  }
 },
 "nbformat": 4,
 "nbformat_minor": 5
}
